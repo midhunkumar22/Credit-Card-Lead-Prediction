{
 "cells": [
  {
   "cell_type": "code",
   "execution_count": 1,
   "id": "general-transaction",
   "metadata": {
    "execution": {
     "iopub.execute_input": "2021-06-07T16:26:49.292610Z",
     "iopub.status.busy": "2021-06-07T16:26:49.291976Z",
     "iopub.status.idle": "2021-06-07T16:26:49.297552Z",
     "shell.execute_reply": "2021-06-07T16:26:49.296864Z",
     "shell.execute_reply.started": "2021-06-07T06:32:46.564628Z"
    },
    "papermill": {
     "duration": 0.074067,
     "end_time": "2021-06-07T16:26:49.297716",
     "exception": false,
     "start_time": "2021-06-07T16:26:49.223649",
     "status": "completed"
    },
    "tags": []
   },
   "outputs": [],
   "source": [
    "##################################################\n",
    "## Credit Card Lead Prediction\n",
    "##################################################\n",
    "#!/usr/bin/python\n",
    "__author__ = 'Midhunkumar S'\n",
    "__version__ = '0.1.0'\n",
    "__maintainer__ = 'Midhunkumar S'\n",
    "__status__ = 'Dev'\n",
    "##################################################"
   ]
  },
  {
   "cell_type": "code",
   "execution_count": 2,
   "id": "western-awareness",
   "metadata": {
    "execution": {
     "iopub.execute_input": "2021-06-07T16:26:49.417197Z",
     "iopub.status.busy": "2021-06-07T16:26:49.416364Z",
     "iopub.status.idle": "2021-06-07T16:26:50.423215Z",
     "shell.execute_reply": "2021-06-07T16:26:50.423876Z",
     "shell.execute_reply.started": "2021-06-07T06:32:46.570831Z"
    },
    "papermill": {
     "duration": 1.070467,
     "end_time": "2021-06-07T16:26:50.424103",
     "exception": false,
     "start_time": "2021-06-07T16:26:49.353636",
     "status": "completed"
    },
    "tags": []
   },
   "outputs": [],
   "source": [
    "# Importing Libraries\n",
    "import numpy as np                      \n",
    "import pandas as pd                      \n",
    "import matplotlib.pyplot as plt\n",
    "import seaborn as sns\n",
    "colo = sns.color_palette()\n",
    "sns.set_style(\"darkgrid\")\n",
    "\n",
    "from scipy.stats import zscore \n",
    "from sklearn.model_selection import train_test_split\n",
    "#from lazypredict.Supervised import LazyClassifier\n",
    "from sklearn.metrics import confusion_matrix\n",
    "from sklearn.model_selection import GridSearchCV\n",
    "from sklearn.model_selection import StratifiedKFold\n",
    "\n",
    "import warnings\n",
    "warnings.filterwarnings(\"ignore\")\n",
    "\n",
    "seed = np.random.seed(2020)"
   ]
  },
  {
   "cell_type": "code",
   "execution_count": 3,
   "id": "polar-airline",
   "metadata": {
    "execution": {
     "iopub.execute_input": "2021-06-07T16:26:50.550105Z",
     "iopub.status.busy": "2021-06-07T16:26:50.549236Z",
     "iopub.status.idle": "2021-06-07T16:26:51.487206Z",
     "shell.execute_reply": "2021-06-07T16:26:51.486203Z",
     "shell.execute_reply.started": "2021-06-07T06:32:47.815058Z"
    },
    "papermill": {
     "duration": 1.003902,
     "end_time": "2021-06-07T16:26:51.487386",
     "exception": false,
     "start_time": "2021-06-07T16:26:50.483484",
     "status": "completed"
    },
    "tags": []
   },
   "outputs": [],
   "source": [
    "# Importing Files\n",
    "train_df = pd.read_csv(\"../input/cred-data/train_s3TEQDk.csv\", encoding=\"utf-8\")\n",
    "test_df = pd.read_csv(\"../input/cred-data/test_mSzZ8RL.csv\", encoding=\"utf-8\")\n",
    "sample_df = pd.read_csv(\"../input/cred-data/sample_submission_eyYijxG.csv\", encoding=\"utf-8\")"
   ]
  },
  {
   "cell_type": "markdown",
   "id": "earlier-jordan",
   "metadata": {
    "papermill": {
     "duration": 0.057377,
     "end_time": "2021-06-07T16:26:51.603142",
     "exception": false,
     "start_time": "2021-06-07T16:26:51.545765",
     "status": "completed"
    },
    "tags": []
   },
   "source": [
    "### `EDA`"
   ]
  },
  {
   "cell_type": "code",
   "execution_count": 4,
   "id": "golden-enough",
   "metadata": {
    "execution": {
     "iopub.execute_input": "2021-06-07T16:26:51.722929Z",
     "iopub.status.busy": "2021-06-07T16:26:51.722176Z",
     "iopub.status.idle": "2021-06-07T16:26:51.729188Z",
     "shell.execute_reply": "2021-06-07T16:26:51.729870Z",
     "shell.execute_reply.started": "2021-06-07T06:32:48.96349Z"
    },
    "papermill": {
     "duration": 0.069116,
     "end_time": "2021-06-07T16:26:51.730063",
     "exception": false,
     "start_time": "2021-06-07T16:26:51.660947",
     "status": "completed"
    },
    "tags": []
   },
   "outputs": [
    {
     "name": "stdout",
     "output_type": "stream",
     "text": [
      "Train dataset shape -  (245725, 11)\n",
      "Test dataset shape -  (105312, 10)\n",
      "Sample dataset shape -  (105312, 2)\n"
     ]
    }
   ],
   "source": [
    "# Checking Shape\n",
    "\n",
    "print ( \"Train dataset shape - \" ,train_df.shape,  )\n",
    "print ( \"Test dataset shape - \" ,test_df.shape )\n",
    "print ( \"Sample dataset shape - \" ,sample_df.shape )"
   ]
  },
  {
   "cell_type": "code",
   "execution_count": 5,
   "id": "lightweight-martin",
   "metadata": {
    "execution": {
     "iopub.execute_input": "2021-06-07T16:26:51.856256Z",
     "iopub.status.busy": "2021-06-07T16:26:51.855423Z",
     "iopub.status.idle": "2021-06-07T16:26:52.036510Z",
     "shell.execute_reply": "2021-06-07T16:26:52.035757Z",
     "shell.execute_reply.started": "2021-06-07T06:32:48.972532Z"
    },
    "papermill": {
     "duration": 0.246688,
     "end_time": "2021-06-07T16:26:52.036680",
     "exception": false,
     "start_time": "2021-06-07T16:26:51.789992",
     "status": "completed"
    },
    "tags": []
   },
   "outputs": [
    {
     "name": "stdout",
     "output_type": "stream",
     "text": [
      "<class 'pandas.core.frame.DataFrame'>\n",
      "RangeIndex: 245725 entries, 0 to 245724\n",
      "Data columns (total 11 columns):\n",
      " #   Column               Non-Null Count   Dtype \n",
      "---  ------               --------------   ----- \n",
      " 0   ID                   245725 non-null  object\n",
      " 1   Gender               245725 non-null  object\n",
      " 2   Age                  245725 non-null  int64 \n",
      " 3   Region_Code          245725 non-null  object\n",
      " 4   Occupation           245725 non-null  object\n",
      " 5   Channel_Code         245725 non-null  object\n",
      " 6   Vintage              245725 non-null  int64 \n",
      " 7   Credit_Product       216400 non-null  object\n",
      " 8   Avg_Account_Balance  245725 non-null  int64 \n",
      " 9   Is_Active            245725 non-null  object\n",
      " 10  Is_Lead              245725 non-null  int64 \n",
      "dtypes: int64(4), object(7)\n",
      "memory usage: 20.6+ MB\n"
     ]
    }
   ],
   "source": [
    "train_df.info()"
   ]
  },
  {
   "cell_type": "code",
   "execution_count": 6,
   "id": "fresh-indiana",
   "metadata": {
    "execution": {
     "iopub.execute_input": "2021-06-07T16:26:52.223227Z",
     "iopub.status.busy": "2021-06-07T16:26:52.222619Z",
     "iopub.status.idle": "2021-06-07T16:26:52.239868Z",
     "shell.execute_reply": "2021-06-07T16:26:52.239332Z",
     "shell.execute_reply.started": "2021-06-07T06:32:49.167591Z"
    },
    "papermill": {
     "duration": 0.144245,
     "end_time": "2021-06-07T16:26:52.240006",
     "exception": false,
     "start_time": "2021-06-07T16:26:52.095761",
     "status": "completed"
    },
    "tags": []
   },
   "outputs": [
    {
     "name": "stdout",
     "output_type": "stream",
     "text": [
      "<class 'pandas.core.frame.DataFrame'>\n",
      "RangeIndex: 105312 entries, 0 to 105311\n",
      "Data columns (total 10 columns):\n",
      " #   Column               Non-Null Count   Dtype \n",
      "---  ------               --------------   ----- \n",
      " 0   ID                   105312 non-null  object\n",
      " 1   Gender               105312 non-null  object\n",
      " 2   Age                  105312 non-null  int64 \n",
      " 3   Region_Code          105312 non-null  object\n",
      " 4   Occupation           105312 non-null  object\n",
      " 5   Channel_Code         105312 non-null  object\n",
      " 6   Vintage              105312 non-null  int64 \n",
      " 7   Credit_Product       92790 non-null   object\n",
      " 8   Avg_Account_Balance  105312 non-null  int64 \n",
      " 9   Is_Active            105312 non-null  object\n",
      "dtypes: int64(3), object(7)\n",
      "memory usage: 8.0+ MB\n"
     ]
    }
   ],
   "source": [
    "test_df.info()"
   ]
  },
  {
   "cell_type": "code",
   "execution_count": 7,
   "id": "hidden-contract",
   "metadata": {
    "execution": {
     "iopub.execute_input": "2021-06-07T16:26:52.364605Z",
     "iopub.status.busy": "2021-06-07T16:26:52.363369Z",
     "iopub.status.idle": "2021-06-07T16:26:52.426982Z",
     "shell.execute_reply": "2021-06-07T16:26:52.426421Z",
     "shell.execute_reply.started": "2021-06-07T06:32:49.253193Z"
    },
    "papermill": {
     "duration": 0.129786,
     "end_time": "2021-06-07T16:26:52.427120",
     "exception": false,
     "start_time": "2021-06-07T16:26:52.297334",
     "status": "completed"
    },
    "tags": []
   },
   "outputs": [
    {
     "data": {
      "text/html": [
       "<div>\n",
       "<style scoped>\n",
       "    .dataframe tbody tr th:only-of-type {\n",
       "        vertical-align: middle;\n",
       "    }\n",
       "\n",
       "    .dataframe tbody tr th {\n",
       "        vertical-align: top;\n",
       "    }\n",
       "\n",
       "    .dataframe thead th {\n",
       "        text-align: right;\n",
       "    }\n",
       "</style>\n",
       "<table border=\"1\" class=\"dataframe\">\n",
       "  <thead>\n",
       "    <tr style=\"text-align: right;\">\n",
       "      <th></th>\n",
       "      <th>Age</th>\n",
       "      <th>Vintage</th>\n",
       "      <th>Avg_Account_Balance</th>\n",
       "      <th>Is_Lead</th>\n",
       "    </tr>\n",
       "  </thead>\n",
       "  <tbody>\n",
       "    <tr>\n",
       "      <th>count</th>\n",
       "      <td>245725.000000</td>\n",
       "      <td>245725.000000</td>\n",
       "      <td>2.457250e+05</td>\n",
       "      <td>245725.000000</td>\n",
       "    </tr>\n",
       "    <tr>\n",
       "      <th>mean</th>\n",
       "      <td>43.856307</td>\n",
       "      <td>46.959141</td>\n",
       "      <td>1.128403e+06</td>\n",
       "      <td>0.237208</td>\n",
       "    </tr>\n",
       "    <tr>\n",
       "      <th>std</th>\n",
       "      <td>14.828672</td>\n",
       "      <td>32.353136</td>\n",
       "      <td>8.529364e+05</td>\n",
       "      <td>0.425372</td>\n",
       "    </tr>\n",
       "    <tr>\n",
       "      <th>min</th>\n",
       "      <td>23.000000</td>\n",
       "      <td>7.000000</td>\n",
       "      <td>2.079000e+04</td>\n",
       "      <td>0.000000</td>\n",
       "    </tr>\n",
       "    <tr>\n",
       "      <th>25%</th>\n",
       "      <td>30.000000</td>\n",
       "      <td>20.000000</td>\n",
       "      <td>6.043100e+05</td>\n",
       "      <td>0.000000</td>\n",
       "    </tr>\n",
       "    <tr>\n",
       "      <th>50%</th>\n",
       "      <td>43.000000</td>\n",
       "      <td>32.000000</td>\n",
       "      <td>8.946010e+05</td>\n",
       "      <td>0.000000</td>\n",
       "    </tr>\n",
       "    <tr>\n",
       "      <th>75%</th>\n",
       "      <td>54.000000</td>\n",
       "      <td>73.000000</td>\n",
       "      <td>1.366666e+06</td>\n",
       "      <td>0.000000</td>\n",
       "    </tr>\n",
       "    <tr>\n",
       "      <th>max</th>\n",
       "      <td>85.000000</td>\n",
       "      <td>135.000000</td>\n",
       "      <td>1.035201e+07</td>\n",
       "      <td>1.000000</td>\n",
       "    </tr>\n",
       "  </tbody>\n",
       "</table>\n",
       "</div>"
      ],
      "text/plain": [
       "                 Age        Vintage  Avg_Account_Balance        Is_Lead\n",
       "count  245725.000000  245725.000000         2.457250e+05  245725.000000\n",
       "mean       43.856307      46.959141         1.128403e+06       0.237208\n",
       "std        14.828672      32.353136         8.529364e+05       0.425372\n",
       "min        23.000000       7.000000         2.079000e+04       0.000000\n",
       "25%        30.000000      20.000000         6.043100e+05       0.000000\n",
       "50%        43.000000      32.000000         8.946010e+05       0.000000\n",
       "75%        54.000000      73.000000         1.366666e+06       0.000000\n",
       "max        85.000000     135.000000         1.035201e+07       1.000000"
      ]
     },
     "execution_count": 7,
     "metadata": {},
     "output_type": "execute_result"
    }
   ],
   "source": [
    "train_df.describe()"
   ]
  },
  {
   "cell_type": "code",
   "execution_count": 8,
   "id": "subtle-immunology",
   "metadata": {
    "execution": {
     "iopub.execute_input": "2021-06-07T16:26:52.550865Z",
     "iopub.status.busy": "2021-06-07T16:26:52.550211Z",
     "iopub.status.idle": "2021-06-07T16:26:52.580665Z",
     "shell.execute_reply": "2021-06-07T16:26:52.580047Z",
     "shell.execute_reply.started": "2021-06-07T06:32:49.327524Z"
    },
    "papermill": {
     "duration": 0.095342,
     "end_time": "2021-06-07T16:26:52.580848",
     "exception": false,
     "start_time": "2021-06-07T16:26:52.485506",
     "status": "completed"
    },
    "tags": []
   },
   "outputs": [
    {
     "data": {
      "text/html": [
       "<div>\n",
       "<style scoped>\n",
       "    .dataframe tbody tr th:only-of-type {\n",
       "        vertical-align: middle;\n",
       "    }\n",
       "\n",
       "    .dataframe tbody tr th {\n",
       "        vertical-align: top;\n",
       "    }\n",
       "\n",
       "    .dataframe thead th {\n",
       "        text-align: right;\n",
       "    }\n",
       "</style>\n",
       "<table border=\"1\" class=\"dataframe\">\n",
       "  <thead>\n",
       "    <tr style=\"text-align: right;\">\n",
       "      <th></th>\n",
       "      <th>Age</th>\n",
       "      <th>Vintage</th>\n",
       "      <th>Avg_Account_Balance</th>\n",
       "    </tr>\n",
       "  </thead>\n",
       "  <tbody>\n",
       "    <tr>\n",
       "      <th>count</th>\n",
       "      <td>105312.000000</td>\n",
       "      <td>105312.000000</td>\n",
       "      <td>1.053120e+05</td>\n",
       "    </tr>\n",
       "    <tr>\n",
       "      <th>mean</th>\n",
       "      <td>43.871002</td>\n",
       "      <td>46.842819</td>\n",
       "      <td>1.134195e+06</td>\n",
       "    </tr>\n",
       "    <tr>\n",
       "      <th>std</th>\n",
       "      <td>14.872890</td>\n",
       "      <td>32.273634</td>\n",
       "      <td>8.662430e+05</td>\n",
       "    </tr>\n",
       "    <tr>\n",
       "      <th>min</th>\n",
       "      <td>24.000000</td>\n",
       "      <td>7.000000</td>\n",
       "      <td>2.259700e+04</td>\n",
       "    </tr>\n",
       "    <tr>\n",
       "      <th>25%</th>\n",
       "      <td>30.000000</td>\n",
       "      <td>20.000000</td>\n",
       "      <td>6.039822e+05</td>\n",
       "    </tr>\n",
       "    <tr>\n",
       "      <th>50%</th>\n",
       "      <td>43.000000</td>\n",
       "      <td>32.000000</td>\n",
       "      <td>8.966345e+05</td>\n",
       "    </tr>\n",
       "    <tr>\n",
       "      <th>75%</th>\n",
       "      <td>54.000000</td>\n",
       "      <td>73.000000</td>\n",
       "      <td>1.371598e+06</td>\n",
       "    </tr>\n",
       "    <tr>\n",
       "      <th>max</th>\n",
       "      <td>85.000000</td>\n",
       "      <td>135.000000</td>\n",
       "      <td>9.908858e+06</td>\n",
       "    </tr>\n",
       "  </tbody>\n",
       "</table>\n",
       "</div>"
      ],
      "text/plain": [
       "                 Age        Vintage  Avg_Account_Balance\n",
       "count  105312.000000  105312.000000         1.053120e+05\n",
       "mean       43.871002      46.842819         1.134195e+06\n",
       "std        14.872890      32.273634         8.662430e+05\n",
       "min        24.000000       7.000000         2.259700e+04\n",
       "25%        30.000000      20.000000         6.039822e+05\n",
       "50%        43.000000      32.000000         8.966345e+05\n",
       "75%        54.000000      73.000000         1.371598e+06\n",
       "max        85.000000     135.000000         9.908858e+06"
      ]
     },
     "execution_count": 8,
     "metadata": {},
     "output_type": "execute_result"
    }
   ],
   "source": [
    "test_df.describe()"
   ]
  },
  {
   "cell_type": "code",
   "execution_count": 9,
   "id": "explicit-macintosh",
   "metadata": {
    "execution": {
     "iopub.execute_input": "2021-06-07T16:26:52.714547Z",
     "iopub.status.busy": "2021-06-07T16:26:52.713646Z",
     "iopub.status.idle": "2021-06-07T16:26:52.718156Z",
     "shell.execute_reply": "2021-06-07T16:26:52.717566Z",
     "shell.execute_reply.started": "2021-06-07T06:32:49.364512Z"
    },
    "papermill": {
     "duration": 0.078965,
     "end_time": "2021-06-07T16:26:52.718310",
     "exception": false,
     "start_time": "2021-06-07T16:26:52.639345",
     "status": "completed"
    },
    "tags": []
   },
   "outputs": [
    {
     "data": {
      "text/html": [
       "<div>\n",
       "<style scoped>\n",
       "    .dataframe tbody tr th:only-of-type {\n",
       "        vertical-align: middle;\n",
       "    }\n",
       "\n",
       "    .dataframe tbody tr th {\n",
       "        vertical-align: top;\n",
       "    }\n",
       "\n",
       "    .dataframe thead th {\n",
       "        text-align: right;\n",
       "    }\n",
       "</style>\n",
       "<table border=\"1\" class=\"dataframe\">\n",
       "  <thead>\n",
       "    <tr style=\"text-align: right;\">\n",
       "      <th></th>\n",
       "      <th>ID</th>\n",
       "      <th>Gender</th>\n",
       "      <th>Age</th>\n",
       "      <th>Region_Code</th>\n",
       "      <th>Occupation</th>\n",
       "      <th>Channel_Code</th>\n",
       "      <th>Vintage</th>\n",
       "      <th>Credit_Product</th>\n",
       "      <th>Avg_Account_Balance</th>\n",
       "      <th>Is_Active</th>\n",
       "      <th>Is_Lead</th>\n",
       "    </tr>\n",
       "  </thead>\n",
       "  <tbody>\n",
       "    <tr>\n",
       "      <th>0</th>\n",
       "      <td>NNVBBKZB</td>\n",
       "      <td>Female</td>\n",
       "      <td>73</td>\n",
       "      <td>RG268</td>\n",
       "      <td>Other</td>\n",
       "      <td>X3</td>\n",
       "      <td>43</td>\n",
       "      <td>No</td>\n",
       "      <td>1045696</td>\n",
       "      <td>No</td>\n",
       "      <td>0</td>\n",
       "    </tr>\n",
       "    <tr>\n",
       "      <th>1</th>\n",
       "      <td>IDD62UNG</td>\n",
       "      <td>Female</td>\n",
       "      <td>30</td>\n",
       "      <td>RG277</td>\n",
       "      <td>Salaried</td>\n",
       "      <td>X1</td>\n",
       "      <td>32</td>\n",
       "      <td>No</td>\n",
       "      <td>581988</td>\n",
       "      <td>No</td>\n",
       "      <td>0</td>\n",
       "    </tr>\n",
       "    <tr>\n",
       "      <th>2</th>\n",
       "      <td>HD3DSEMC</td>\n",
       "      <td>Female</td>\n",
       "      <td>56</td>\n",
       "      <td>RG268</td>\n",
       "      <td>Self_Employed</td>\n",
       "      <td>X3</td>\n",
       "      <td>26</td>\n",
       "      <td>No</td>\n",
       "      <td>1484315</td>\n",
       "      <td>Yes</td>\n",
       "      <td>0</td>\n",
       "    </tr>\n",
       "    <tr>\n",
       "      <th>3</th>\n",
       "      <td>BF3NC7KV</td>\n",
       "      <td>Male</td>\n",
       "      <td>34</td>\n",
       "      <td>RG270</td>\n",
       "      <td>Salaried</td>\n",
       "      <td>X1</td>\n",
       "      <td>19</td>\n",
       "      <td>No</td>\n",
       "      <td>470454</td>\n",
       "      <td>No</td>\n",
       "      <td>0</td>\n",
       "    </tr>\n",
       "    <tr>\n",
       "      <th>4</th>\n",
       "      <td>TEASRWXV</td>\n",
       "      <td>Female</td>\n",
       "      <td>30</td>\n",
       "      <td>RG282</td>\n",
       "      <td>Salaried</td>\n",
       "      <td>X1</td>\n",
       "      <td>33</td>\n",
       "      <td>No</td>\n",
       "      <td>886787</td>\n",
       "      <td>No</td>\n",
       "      <td>0</td>\n",
       "    </tr>\n",
       "  </tbody>\n",
       "</table>\n",
       "</div>"
      ],
      "text/plain": [
       "         ID  Gender  Age Region_Code     Occupation Channel_Code  Vintage  \\\n",
       "0  NNVBBKZB  Female   73       RG268          Other           X3       43   \n",
       "1  IDD62UNG  Female   30       RG277       Salaried           X1       32   \n",
       "2  HD3DSEMC  Female   56       RG268  Self_Employed           X3       26   \n",
       "3  BF3NC7KV    Male   34       RG270       Salaried           X1       19   \n",
       "4  TEASRWXV  Female   30       RG282       Salaried           X1       33   \n",
       "\n",
       "  Credit_Product  Avg_Account_Balance Is_Active  Is_Lead  \n",
       "0             No              1045696        No        0  \n",
       "1             No               581988        No        0  \n",
       "2             No              1484315       Yes        0  \n",
       "3             No               470454        No        0  \n",
       "4             No               886787        No        0  "
      ]
     },
     "execution_count": 9,
     "metadata": {},
     "output_type": "execute_result"
    }
   ],
   "source": [
    "train_df.head()"
   ]
  },
  {
   "cell_type": "code",
   "execution_count": 10,
   "id": "embedded-functionality",
   "metadata": {
    "execution": {
     "iopub.execute_input": "2021-06-07T16:26:52.852420Z",
     "iopub.status.busy": "2021-06-07T16:26:52.851422Z",
     "iopub.status.idle": "2021-06-07T16:26:52.855817Z",
     "shell.execute_reply": "2021-06-07T16:26:52.855194Z",
     "shell.execute_reply.started": "2021-06-07T06:32:49.384515Z"
    },
    "papermill": {
     "duration": 0.078584,
     "end_time": "2021-06-07T16:26:52.855952",
     "exception": false,
     "start_time": "2021-06-07T16:26:52.777368",
     "status": "completed"
    },
    "tags": []
   },
   "outputs": [
    {
     "data": {
      "text/html": [
       "<div>\n",
       "<style scoped>\n",
       "    .dataframe tbody tr th:only-of-type {\n",
       "        vertical-align: middle;\n",
       "    }\n",
       "\n",
       "    .dataframe tbody tr th {\n",
       "        vertical-align: top;\n",
       "    }\n",
       "\n",
       "    .dataframe thead th {\n",
       "        text-align: right;\n",
       "    }\n",
       "</style>\n",
       "<table border=\"1\" class=\"dataframe\">\n",
       "  <thead>\n",
       "    <tr style=\"text-align: right;\">\n",
       "      <th></th>\n",
       "      <th>ID</th>\n",
       "      <th>Gender</th>\n",
       "      <th>Age</th>\n",
       "      <th>Region_Code</th>\n",
       "      <th>Occupation</th>\n",
       "      <th>Channel_Code</th>\n",
       "      <th>Vintage</th>\n",
       "      <th>Credit_Product</th>\n",
       "      <th>Avg_Account_Balance</th>\n",
       "      <th>Is_Active</th>\n",
       "    </tr>\n",
       "  </thead>\n",
       "  <tbody>\n",
       "    <tr>\n",
       "      <th>0</th>\n",
       "      <td>VBENBARO</td>\n",
       "      <td>Male</td>\n",
       "      <td>29</td>\n",
       "      <td>RG254</td>\n",
       "      <td>Other</td>\n",
       "      <td>X1</td>\n",
       "      <td>25</td>\n",
       "      <td>Yes</td>\n",
       "      <td>742366</td>\n",
       "      <td>No</td>\n",
       "    </tr>\n",
       "    <tr>\n",
       "      <th>1</th>\n",
       "      <td>CCMEWNKY</td>\n",
       "      <td>Male</td>\n",
       "      <td>43</td>\n",
       "      <td>RG268</td>\n",
       "      <td>Other</td>\n",
       "      <td>X2</td>\n",
       "      <td>49</td>\n",
       "      <td>NaN</td>\n",
       "      <td>925537</td>\n",
       "      <td>No</td>\n",
       "    </tr>\n",
       "    <tr>\n",
       "      <th>2</th>\n",
       "      <td>VK3KGA9M</td>\n",
       "      <td>Male</td>\n",
       "      <td>31</td>\n",
       "      <td>RG270</td>\n",
       "      <td>Salaried</td>\n",
       "      <td>X1</td>\n",
       "      <td>14</td>\n",
       "      <td>No</td>\n",
       "      <td>215949</td>\n",
       "      <td>No</td>\n",
       "    </tr>\n",
       "    <tr>\n",
       "      <th>3</th>\n",
       "      <td>TT8RPZVC</td>\n",
       "      <td>Male</td>\n",
       "      <td>29</td>\n",
       "      <td>RG272</td>\n",
       "      <td>Other</td>\n",
       "      <td>X1</td>\n",
       "      <td>33</td>\n",
       "      <td>No</td>\n",
       "      <td>868070</td>\n",
       "      <td>No</td>\n",
       "    </tr>\n",
       "    <tr>\n",
       "      <th>4</th>\n",
       "      <td>SHQZEYTZ</td>\n",
       "      <td>Female</td>\n",
       "      <td>29</td>\n",
       "      <td>RG270</td>\n",
       "      <td>Other</td>\n",
       "      <td>X1</td>\n",
       "      <td>19</td>\n",
       "      <td>No</td>\n",
       "      <td>657087</td>\n",
       "      <td>No</td>\n",
       "    </tr>\n",
       "  </tbody>\n",
       "</table>\n",
       "</div>"
      ],
      "text/plain": [
       "         ID  Gender  Age Region_Code Occupation Channel_Code  Vintage  \\\n",
       "0  VBENBARO    Male   29       RG254      Other           X1       25   \n",
       "1  CCMEWNKY    Male   43       RG268      Other           X2       49   \n",
       "2  VK3KGA9M    Male   31       RG270   Salaried           X1       14   \n",
       "3  TT8RPZVC    Male   29       RG272      Other           X1       33   \n",
       "4  SHQZEYTZ  Female   29       RG270      Other           X1       19   \n",
       "\n",
       "  Credit_Product  Avg_Account_Balance Is_Active  \n",
       "0            Yes               742366        No  \n",
       "1            NaN               925537        No  \n",
       "2             No               215949        No  \n",
       "3             No               868070        No  \n",
       "4             No               657087        No  "
      ]
     },
     "execution_count": 10,
     "metadata": {},
     "output_type": "execute_result"
    }
   ],
   "source": [
    "test_df.head()"
   ]
  },
  {
   "cell_type": "code",
   "execution_count": 11,
   "id": "accepting-building",
   "metadata": {
    "execution": {
     "iopub.execute_input": "2021-06-07T16:26:52.978112Z",
     "iopub.status.busy": "2021-06-07T16:26:52.977188Z",
     "iopub.status.idle": "2021-06-07T16:26:53.160255Z",
     "shell.execute_reply": "2021-06-07T16:26:53.159672Z",
     "shell.execute_reply.started": "2021-06-07T06:32:49.409171Z"
    },
    "papermill": {
     "duration": 0.245418,
     "end_time": "2021-06-07T16:26:53.160485",
     "exception": false,
     "start_time": "2021-06-07T16:26:52.915067",
     "status": "completed"
    },
    "tags": []
   },
   "outputs": [
    {
     "data": {
      "text/plain": [
       "ID                      0.00\n",
       "Gender                  0.00\n",
       "Age                     0.00\n",
       "Region_Code             0.00\n",
       "Occupation              0.00\n",
       "Channel_Code            0.00\n",
       "Vintage                 0.00\n",
       "Credit_Product         11.93\n",
       "Avg_Account_Balance     0.00\n",
       "Is_Active               0.00\n",
       "Is_Lead                 0.00\n",
       "dtype: float64"
      ]
     },
     "execution_count": 11,
     "metadata": {},
     "output_type": "execute_result"
    }
   ],
   "source": [
    "# % of Null columns \n",
    "round((train_df.isnull().sum()/len(train_df))*100,2)"
   ]
  },
  {
   "cell_type": "markdown",
   "id": "rubber-steering",
   "metadata": {
    "papermill": {
     "duration": 0.060013,
     "end_time": "2021-06-07T16:26:53.281935",
     "exception": false,
     "start_time": "2021-06-07T16:26:53.221922",
     "status": "completed"
    },
    "tags": []
   },
   "source": [
    "`We could see 11.93% of Credit_Product has missing values`"
   ]
  },
  {
   "cell_type": "code",
   "execution_count": 12,
   "id": "balanced-extra",
   "metadata": {
    "execution": {
     "iopub.execute_input": "2021-06-07T16:26:53.473777Z",
     "iopub.status.busy": "2021-06-07T16:26:53.472340Z",
     "iopub.status.idle": "2021-06-07T16:26:53.484371Z",
     "shell.execute_reply": "2021-06-07T16:26:53.483699Z",
     "shell.execute_reply.started": "2021-06-07T06:32:49.601145Z"
    },
    "papermill": {
     "duration": 0.142165,
     "end_time": "2021-06-07T16:26:53.484537",
     "exception": false,
     "start_time": "2021-06-07T16:26:53.342372",
     "status": "completed"
    },
    "tags": []
   },
   "outputs": [
    {
     "data": {
      "text/plain": [
       "ID                      0.00\n",
       "Gender                  0.00\n",
       "Age                     0.00\n",
       "Region_Code             0.00\n",
       "Occupation              0.00\n",
       "Channel_Code            0.00\n",
       "Vintage                 0.00\n",
       "Credit_Product         11.89\n",
       "Avg_Account_Balance     0.00\n",
       "Is_Active               0.00\n",
       "dtype: float64"
      ]
     },
     "execution_count": 12,
     "metadata": {},
     "output_type": "execute_result"
    }
   ],
   "source": [
    "round((test_df.isnull().sum()/len(test_df))*100,2)"
   ]
  },
  {
   "cell_type": "markdown",
   "id": "verbal-controversy",
   "metadata": {
    "papermill": {
     "duration": 0.060032,
     "end_time": "2021-06-07T16:26:53.606535",
     "exception": false,
     "start_time": "2021-06-07T16:26:53.546503",
     "status": "completed"
    },
    "tags": []
   },
   "source": [
    "`We could see 11.89% of Credit_Product has missing values same as Train file`"
   ]
  },
  {
   "cell_type": "code",
   "execution_count": 13,
   "id": "fuzzy-trustee",
   "metadata": {
    "execution": {
     "iopub.execute_input": "2021-06-07T16:26:53.735688Z",
     "iopub.status.busy": "2021-06-07T16:26:53.734896Z",
     "iopub.status.idle": "2021-06-07T16:26:53.739503Z",
     "shell.execute_reply": "2021-06-07T16:26:53.738858Z",
     "shell.execute_reply.started": "2021-06-07T06:32:49.681668Z"
    },
    "papermill": {
     "duration": 0.07259,
     "end_time": "2021-06-07T16:26:53.739659",
     "exception": false,
     "start_time": "2021-06-07T16:26:53.667069",
     "status": "completed"
    },
    "tags": []
   },
   "outputs": [
    {
     "name": "stdout",
     "output_type": "stream",
     "text": [
      "\n",
      "Train Coloumns:\n",
      " Index(['ID', 'Gender', 'Age', 'Region_Code', 'Occupation', 'Channel_Code',\n",
      "       'Vintage', 'Credit_Product', 'Avg_Account_Balance', 'Is_Active',\n",
      "       'Is_Lead'],\n",
      "      dtype='object')\n",
      "\n",
      "Test Coloumns:\n",
      " Index(['ID', 'Gender', 'Age', 'Region_Code', 'Occupation', 'Channel_Code',\n",
      "       'Vintage', 'Credit_Product', 'Avg_Account_Balance', 'Is_Active'],\n",
      "      dtype='object')\n"
     ]
    }
   ],
   "source": [
    "# Checking the unique Values\n",
    "train_col = train_df.columns\n",
    "print(\"\\nTrain Coloumns:\\n\",train_col)\n",
    "test_col = test_df.columns\n",
    "print(\"\\nTest Coloumns:\\n\",test_col)"
   ]
  },
  {
   "cell_type": "code",
   "execution_count": 14,
   "id": "located-miracle",
   "metadata": {
    "execution": {
     "iopub.execute_input": "2021-06-07T16:26:53.883153Z",
     "iopub.status.busy": "2021-06-07T16:26:53.882510Z",
     "iopub.status.idle": "2021-06-07T16:26:54.206790Z",
     "shell.execute_reply": "2021-06-07T16:26:54.207701Z",
     "shell.execute_reply.started": "2021-06-07T06:32:49.690813Z"
    },
    "papermill": {
     "duration": 0.405767,
     "end_time": "2021-06-07T16:26:54.207964",
     "exception": false,
     "start_time": "2021-06-07T16:26:53.802197",
     "status": "completed"
    },
    "tags": []
   },
   "outputs": [
    {
     "name": "stdout",
     "output_type": "stream",
     "text": [
      "Train File\n",
      "\n",
      "Unique Coloumn values in Train ID is -  245725\n",
      "Unique Coloumn values in Train Gender is -  2\n",
      "Unique Coloumn values in Train Age is -  63\n",
      "Unique Coloumn values in Train Region_Code is -  35\n",
      "Unique Coloumn values in Train Occupation is -  4\n",
      "Unique Coloumn values in Train Channel_Code is -  4\n",
      "Unique Coloumn values in Train Vintage is -  66\n",
      "Unique Coloumn values in Train Credit_Product is -  3\n",
      "Unique Coloumn values in Train Avg_Account_Balance is -  135292\n",
      "Unique Coloumn values in Train Is_Active is -  2\n",
      "Unique Coloumn values in Train Is_Lead is -  2\n",
      "\n",
      "Test File\n",
      "\n",
      "Unique Coloumn values in Test ID is -  105312\n",
      "Unique Coloumn values in Test Gender is -  2\n",
      "Unique Coloumn values in Test Age is -  62\n",
      "Unique Coloumn values in Test Region_Code is -  35\n",
      "Unique Coloumn values in Test Occupation is -  4\n",
      "Unique Coloumn values in Test Channel_Code is -  4\n",
      "Unique Coloumn values in Test Vintage is -  66\n",
      "Unique Coloumn values in Test Credit_Product is -  3\n",
      "Unique Coloumn values in Test Avg_Account_Balance is -  78315\n",
      "Unique Coloumn values in Test Is_Active is -  2\n"
     ]
    }
   ],
   "source": [
    "print(\"Train File\\n\")\n",
    "for i in train_col:\n",
    "    print(f\"Unique Coloumn values in Train {i} is -  {len(train_df[i].unique())}\")\n",
    "    \n",
    "print(\"\\nTest File\\n\")\n",
    "for i in test_col:\n",
    "    print(f\"Unique Coloumn values in Test {i} is -  {len(test_df[i].unique())}\")\n",
    "         "
   ]
  },
  {
   "cell_type": "code",
   "execution_count": 15,
   "id": "honey-logistics",
   "metadata": {
    "execution": {
     "iopub.execute_input": "2021-06-07T16:26:54.354860Z",
     "iopub.status.busy": "2021-06-07T16:26:54.354158Z",
     "iopub.status.idle": "2021-06-07T16:26:54.501241Z",
     "shell.execute_reply": "2021-06-07T16:26:54.502198Z",
     "shell.execute_reply.started": "2021-06-07T06:32:50.070615Z"
    },
    "papermill": {
     "duration": 0.231089,
     "end_time": "2021-06-07T16:26:54.502555",
     "exception": false,
     "start_time": "2021-06-07T16:26:54.271466",
     "status": "completed"
    },
    "tags": []
   },
   "outputs": [
    {
     "name": "stdout",
     "output_type": "stream",
     "text": [
      "Train File\n",
      "\n",
      "\n",
      "Column Gender unique values ['Female' 'Male']\n",
      "\n",
      "Column Region_Code unique values ['RG268' 'RG277' 'RG270' 'RG282' 'RG261' 'RG265' 'RG283' 'RG254' 'RG269'\n",
      " 'RG257' 'RG279' 'RG280' 'RG252' 'RG284' 'RG259' 'RG281' 'RG258' 'RG266'\n",
      " 'RG260' 'RG274' 'RG256' 'RG275' 'RG273' 'RG267' 'RG272' 'RG251' 'RG262'\n",
      " 'RG264' 'RG278' 'RG276' 'RG263' 'RG250' 'RG255' 'RG253' 'RG271']\n",
      "\n",
      "Column Occupation unique values ['Other' 'Salaried' 'Self_Employed' 'Entrepreneur']\n",
      "\n",
      "Column Channel_Code unique values ['X3' 'X1' 'X2' 'X4']\n",
      "\n",
      "Column Credit_Product unique values ['No' nan 'Yes']\n",
      "\n",
      "Column Is_Active unique values ['No' 'Yes']\n",
      "\n",
      "Test File\n",
      "\n",
      "\n",
      "Column Gender unique values ['Male' 'Female']\n",
      "\n",
      "Column Region_Code unique values ['RG254' 'RG268' 'RG270' 'RG272' 'RG253' 'RG257' 'RG284' 'RG283' 'RG277'\n",
      " 'RG273' 'RG261' 'RG280' 'RG274' 'RG278' 'RG269' 'RG281' 'RG251' 'RG252'\n",
      " 'RG279' 'RG282' 'RG262' 'RG263' 'RG264' 'RG256' 'RG265' 'RG260' 'RG258'\n",
      " 'RG271' 'RG250' 'RG275' 'RG276' 'RG267' 'RG255' 'RG259' 'RG266']\n",
      "\n",
      "Column Occupation unique values ['Other' 'Salaried' 'Self_Employed' 'Entrepreneur']\n",
      "\n",
      "Column Channel_Code unique values ['X1' 'X2' 'X3' 'X4']\n",
      "\n",
      "Column Credit_Product unique values ['Yes' nan 'No']\n",
      "\n",
      "Column Is_Active unique values ['No' 'Yes']\n"
     ]
    }
   ],
   "source": [
    "print(\"Train File\\n\")\n",
    "for i in ['Gender' , 'Region_Code' ,'Occupation' , 'Channel_Code', 'Credit_Product','Is_Active']:\n",
    "    print(f\"\\nColumn {i} unique values {train_df[i].unique()}\")\n",
    "    \n",
    "print(\"\\nTest File\\n\")\n",
    "for i in ['Gender' , 'Region_Code' ,'Occupation' , 'Channel_Code', 'Credit_Product','Is_Active']:\n",
    "    print(f\"\\nColumn {i} unique values {test_df[i].unique()}\")\n"
   ]
  },
  {
   "cell_type": "code",
   "execution_count": 16,
   "id": "genuine-score",
   "metadata": {
    "execution": {
     "iopub.execute_input": "2021-06-07T16:26:54.722015Z",
     "iopub.status.busy": "2021-06-07T16:26:54.721306Z",
     "iopub.status.idle": "2021-06-07T16:26:54.725960Z",
     "shell.execute_reply": "2021-06-07T16:26:54.725318Z",
     "shell.execute_reply.started": "2021-06-07T06:32:50.244752Z"
    },
    "papermill": {
     "duration": 0.160406,
     "end_time": "2021-06-07T16:26:54.726114",
     "exception": false,
     "start_time": "2021-06-07T16:26:54.565708",
     "status": "completed"
    },
    "tags": []
   },
   "outputs": [
    {
     "name": "stdout",
     "output_type": "stream",
     "text": [
      "23 85\n",
      "24 85\n"
     ]
    }
   ],
   "source": [
    "# Now Lets find out age minimum and Maximum values\n",
    "print(min(train_df[\"Age\"]), max(train_df[\"Age\"]))\n",
    "print(min(test_df[\"Age\"]), max(test_df[\"Age\"]))"
   ]
  },
  {
   "cell_type": "markdown",
   "id": "invalid-gabriel",
   "metadata": {
    "papermill": {
     "duration": 0.062988,
     "end_time": "2021-06-07T16:26:54.851948",
     "exception": false,
     "start_time": "2021-06-07T16:26:54.788960",
     "status": "completed"
    },
    "tags": []
   },
   "source": [
    "#### `From above results, we can see below insights about the data`\n",
    "1. We have Five categorical values  - ['Gender' , 'Region_Code' ,'Occupation' , 'Channel_Code', 'Credit_Product','Is_Active']\n",
    "2. Credit_Product has NaN values, It could be due to they don't have the product. so, we can replce with no in NnN values\n",
    "3. Region_Code has 35 unique values, Its a lot \n",
    "4. Also, while checking Age, Min = 23, and Max = 85. I would suggest that we can categorize this for efficient prediction\n"
   ]
  },
  {
   "cell_type": "code",
   "execution_count": 17,
   "id": "junior-brisbane",
   "metadata": {
    "execution": {
     "iopub.execute_input": "2021-06-07T16:26:54.983355Z",
     "iopub.status.busy": "2021-06-07T16:26:54.982644Z",
     "iopub.status.idle": "2021-06-07T16:26:55.325425Z",
     "shell.execute_reply": "2021-06-07T16:26:55.324817Z",
     "shell.execute_reply.started": "2021-06-07T06:32:50.34569Z"
    },
    "papermill": {
     "duration": 0.411565,
     "end_time": "2021-06-07T16:26:55.325589",
     "exception": false,
     "start_time": "2021-06-07T16:26:54.914024",
     "status": "completed"
    },
    "tags": []
   },
   "outputs": [
    {
     "data": {
      "text/plain": [
       "<AxesSubplot:>"
      ]
     },
     "execution_count": 17,
     "metadata": {},
     "output_type": "execute_result"
    },
    {
     "data": {
      "image/png": "[encoded data removed]",
      "text/plain": [
       "<Figure size 720x360 with 2 Axes>"
      ]
     },
     "metadata": {},
     "output_type": "display_data"
    }
   ],
   "source": [
    "# Correaltion Chart\n",
    "plt.figure(figsize = (10,5)) \n",
    "sns.heatmap(train_df.corr(), annot=True, cmap=\"YlGnBu\")"
   ]
  },
  {
   "cell_type": "code",
   "execution_count": 18,
   "id": "dated-hamburg",
   "metadata": {
    "execution": {
     "iopub.execute_input": "2021-06-07T16:26:55.482191Z",
     "iopub.status.busy": "2021-06-07T16:26:55.481170Z",
     "iopub.status.idle": "2021-06-07T16:28:24.199191Z",
     "shell.execute_reply": "2021-06-07T16:28:24.199704Z",
     "shell.execute_reply.started": "2021-06-07T06:32:50.736259Z"
    },
    "papermill": {
     "duration": 88.810341,
     "end_time": "2021-06-07T16:28:24.199911",
     "exception": false,
     "start_time": "2021-06-07T16:26:55.389570",
     "status": "completed"
    },
    "tags": []
   },
   "outputs": [
    {
     "data": {
      "text/plain": [
       "<seaborn.axisgrid.PairGrid at 0x7f51d337b750>"
      ]
     },
     "execution_count": 18,
     "metadata": {},
     "output_type": "execute_result"
    },
    {
     "data": {
      "image/png": "[encoded data removed]",
      "text/plain": [
       "<Figure size 585.125x540 with 12 Axes>"
      ]
     },
     "metadata": {},
     "output_type": "display_data"
    }
   ],
   "source": [
    "# PairPlot\n",
    "sns.pairplot(train_df, hue = \"Is_Lead\",palette = \"YlGnBu\")"
   ]
  },
  {
   "cell_type": "code",
   "execution_count": 19,
   "id": "manufactured-wages",
   "metadata": {
    "execution": {
     "iopub.execute_input": "2021-06-07T16:28:24.374327Z",
     "iopub.status.busy": "2021-06-07T16:28:24.373575Z",
     "iopub.status.idle": "2021-06-07T16:28:27.368178Z",
     "shell.execute_reply": "2021-06-07T16:28:27.367644Z",
     "shell.execute_reply.started": "2021-06-07T06:34:19.773444Z"
    },
    "papermill": {
     "duration": 3.095334,
     "end_time": "2021-06-07T16:28:27.368353",
     "exception": false,
     "start_time": "2021-06-07T16:28:24.273019",
     "status": "completed"
    },
    "tags": []
   },
   "outputs": [
    {
     "data": {
      "text/plain": [
       "<AxesSubplot:xlabel='Credit_Product', ylabel='Is_Lead'>"
      ]
     },
     "execution_count": 19,
     "metadata": {},
     "output_type": "execute_result"
    },
    {
     "data": {
      "image/png": "[encoded data removed]",
      "text/plain": [
       "<Figure size 432x288 with 1 Axes>"
      ]
     },
     "metadata": {},
     "output_type": "display_data"
    }
   ],
   "source": [
    "# Barplot for Credit_Product and Is_lead\n",
    "sns.barplot(x = train_df.Credit_Product, y = train_df.Is_Lead, data = train_df, palette=\"YlGnBu\")"
   ]
  },
  {
   "cell_type": "code",
   "execution_count": 20,
   "id": "formed-nightlife",
   "metadata": {
    "execution": {
     "iopub.execute_input": "2021-06-07T16:28:27.545556Z",
     "iopub.status.busy": "2021-06-07T16:28:27.544828Z",
     "iopub.status.idle": "2021-06-07T16:28:31.001669Z",
     "shell.execute_reply": "2021-06-07T16:28:31.000996Z",
     "shell.execute_reply.started": "2021-06-07T06:34:22.819367Z"
    },
    "papermill": {
     "duration": 3.558219,
     "end_time": "2021-06-07T16:28:31.001820",
     "exception": false,
     "start_time": "2021-06-07T16:28:27.443601",
     "status": "completed"
    },
    "tags": []
   },
   "outputs": [
    {
     "data": {
      "text/plain": [
       "<AxesSubplot:xlabel='Gender', ylabel='Is_Lead'>"
      ]
     },
     "execution_count": 20,
     "metadata": {},
     "output_type": "execute_result"
    },
    {
     "data": {
      "image/png": "[encoded data removed]",
      "text/plain": [
       "<Figure size 432x288 with 1 Axes>"
      ]
     },
     "metadata": {},
     "output_type": "display_data"
    }
   ],
   "source": [
    "# Barplot for Gender and Is_lead\n",
    "sns.barplot(x = train_df.Gender, y = train_df.Is_Lead, data = train_df, palette = \"YlGnBu\")"
   ]
  },
  {
   "cell_type": "code",
   "execution_count": 21,
   "id": "vietnamese-bulgarian",
   "metadata": {
    "execution": {
     "iopub.execute_input": "2021-06-07T16:28:31.181694Z",
     "iopub.status.busy": "2021-06-07T16:28:31.181026Z",
     "iopub.status.idle": "2021-06-07T16:28:35.389036Z",
     "shell.execute_reply": "2021-06-07T16:28:35.388434Z",
     "shell.execute_reply.started": "2021-06-07T06:34:26.124609Z"
    },
    "papermill": {
     "duration": 4.312257,
     "end_time": "2021-06-07T16:28:35.389206",
     "exception": false,
     "start_time": "2021-06-07T16:28:31.076949",
     "status": "completed"
    },
    "tags": []
   },
   "outputs": [
    {
     "data": {
      "text/plain": [
       "<AxesSubplot:xlabel='Region_Code', ylabel='Is_Lead'>"
      ]
     },
     "execution_count": 21,
     "metadata": {},
     "output_type": "execute_result"
    },
    {
     "data": {
      "image/png": "[encoded data removed]",
      "text/plain": [
       "<Figure size 2160x720 with 1 Axes>"
      ]
     },
     "metadata": {},
     "output_type": "display_data"
    }
   ],
   "source": [
    "# Barplot for Region_Code and Is_lead\n",
    "plt.figure(figsize = (30,10))\n",
    "sns.barplot(x = train_df.Region_Code, y = train_df.Is_Lead, data = train_df, palette = \"YlGnBu\")"
   ]
  },
  {
   "cell_type": "code",
   "execution_count": 22,
   "id": "complete-taiwan",
   "metadata": {
    "execution": {
     "iopub.execute_input": "2021-06-07T16:28:35.571151Z",
     "iopub.status.busy": "2021-06-07T16:28:35.570459Z",
     "iopub.status.idle": "2021-06-07T16:28:38.796555Z",
     "shell.execute_reply": "2021-06-07T16:28:38.797080Z",
     "shell.execute_reply.started": "2021-06-07T06:34:30.41858Z"
    },
    "papermill": {
     "duration": 3.330638,
     "end_time": "2021-06-07T16:28:38.797303",
     "exception": false,
     "start_time": "2021-06-07T16:28:35.466665",
     "status": "completed"
    },
    "tags": []
   },
   "outputs": [
    {
     "data": {
      "text/plain": [
       "<AxesSubplot:xlabel='Occupation', ylabel='Is_Lead'>"
      ]
     },
     "execution_count": 22,
     "metadata": {},
     "output_type": "execute_result"
    },
    {
     "data": {
      "image/png": "[encoded data removed]",
      "text/plain": [
       "<Figure size 432x288 with 1 Axes>"
      ]
     },
     "metadata": {},
     "output_type": "display_data"
    }
   ],
   "source": [
    "# Barplot for Occupation and Is_lead\n",
    "sns.barplot(x = train_df.Occupation,y = train_df.Is_Lead,data = train_df,palette = \"YlGnBu\")"
   ]
  },
  {
   "cell_type": "code",
   "execution_count": 23,
   "id": "direct-thickness",
   "metadata": {
    "execution": {
     "iopub.execute_input": "2021-06-07T16:28:38.985745Z",
     "iopub.status.busy": "2021-06-07T16:28:38.985026Z",
     "iopub.status.idle": "2021-06-07T16:28:42.220674Z",
     "shell.execute_reply": "2021-06-07T16:28:42.220024Z",
     "shell.execute_reply.started": "2021-06-07T06:34:33.527916Z"
    },
    "papermill": {
     "duration": 3.341674,
     "end_time": "2021-06-07T16:28:42.220845",
     "exception": false,
     "start_time": "2021-06-07T16:28:38.879171",
     "status": "completed"
    },
    "tags": []
   },
   "outputs": [
    {
     "data": {
      "text/plain": [
       "<AxesSubplot:xlabel='Channel_Code', ylabel='Is_Lead'>"
      ]
     },
     "execution_count": 23,
     "metadata": {},
     "output_type": "execute_result"
    },
    {
     "data": {
      "image/png": "[encoded data removed]",
      "text/plain": [
       "<Figure size 432x288 with 1 Axes>"
      ]
     },
     "metadata": {},
     "output_type": "display_data"
    }
   ],
   "source": [
    "# Barplot for Channel_Code and Is_lead\n",
    "sns.barplot(x = train_df.Channel_Code,y = train_df.Is_Lead,data = train_df,palette = \"YlGnBu\")"
   ]
  },
  {
   "cell_type": "code",
   "execution_count": 24,
   "id": "dried-legend",
   "metadata": {
    "execution": {
     "iopub.execute_input": "2021-06-07T16:28:42.407461Z",
     "iopub.status.busy": "2021-06-07T16:28:42.406751Z",
     "iopub.status.idle": "2021-06-07T16:28:45.930755Z",
     "shell.execute_reply": "2021-06-07T16:28:45.930034Z",
     "shell.execute_reply.started": "2021-06-07T06:34:36.662744Z"
    },
    "papermill": {
     "duration": 3.630509,
     "end_time": "2021-06-07T16:28:45.930923",
     "exception": false,
     "start_time": "2021-06-07T16:28:42.300414",
     "status": "completed"
    },
    "tags": []
   },
   "outputs": [
    {
     "data": {
      "text/plain": [
       "<AxesSubplot:xlabel='Is_Active', ylabel='Is_Lead'>"
      ]
     },
     "execution_count": 24,
     "metadata": {},
     "output_type": "execute_result"
    },
    {
     "data": {
      "image/png": "[encoded data removed]",
      "text/plain": [
       "<Figure size 432x288 with 1 Axes>"
      ]
     },
     "metadata": {},
     "output_type": "display_data"
    }
   ],
   "source": [
    "# Barplot for Is_Active and Is_lead\n",
    "sns.barplot(x = train_df.Is_Active, y = train_df.Is_Lead, data = train_df,palette = \"YlGnBu\")"
   ]
  },
  {
   "cell_type": "code",
   "execution_count": 25,
   "id": "sunrise-museum",
   "metadata": {
    "execution": {
     "iopub.execute_input": "2021-06-07T16:28:46.097354Z",
     "iopub.status.busy": "2021-06-07T16:28:46.096692Z",
     "iopub.status.idle": "2021-06-07T16:28:46.322275Z",
     "shell.execute_reply": "2021-06-07T16:28:46.321619Z",
     "shell.execute_reply.started": "2021-06-07T06:34:39.913329Z"
    },
    "papermill": {
     "duration": 0.311419,
     "end_time": "2021-06-07T16:28:46.322436",
     "exception": false,
     "start_time": "2021-06-07T16:28:46.011017",
     "status": "completed"
    },
    "tags": []
   },
   "outputs": [
    {
     "data": {
      "text/plain": [
       "<AxesSubplot:xlabel='Avg_Account_Balance'>"
      ]
     },
     "execution_count": 25,
     "metadata": {},
     "output_type": "execute_result"
    },
    {
     "data": {
      "image/png": "[encoded data removed]",
      "text/plain": [
       "<Figure size 432x288 with 1 Axes>"
      ]
     },
     "metadata": {},
     "output_type": "display_data"
    }
   ],
   "source": [
    "# Lets check if any outliers\n",
    "sns.boxplot(x=train_df['Avg_Account_Balance'], palette=\"YlGnBu\")"
   ]
  },
  {
   "cell_type": "code",
   "execution_count": 26,
   "id": "driving-hands",
   "metadata": {
    "execution": {
     "iopub.execute_input": "2021-06-07T16:28:46.490010Z",
     "iopub.status.busy": "2021-06-07T16:28:46.489360Z",
     "iopub.status.idle": "2021-06-07T16:28:46.508149Z",
     "shell.execute_reply": "2021-06-07T16:28:46.508659Z",
     "shell.execute_reply.started": "2021-06-07T06:34:40.128367Z"
    },
    "papermill": {
     "duration": 0.105746,
     "end_time": "2021-06-07T16:28:46.508844",
     "exception": false,
     "start_time": "2021-06-07T16:28:46.403098",
     "status": "completed"
    },
    "tags": []
   },
   "outputs": [
    {
     "data": {
      "text/plain": [
       "count    2.457250e+05\n",
       "mean     1.128403e+06\n",
       "std      8.529364e+05\n",
       "min      2.079000e+04\n",
       "25%      6.043100e+05\n",
       "50%      8.946010e+05\n",
       "75%      1.366666e+06\n",
       "max      1.035201e+07\n",
       "Name: Avg_Account_Balance, dtype: float64"
      ]
     },
     "execution_count": 26,
     "metadata": {},
     "output_type": "execute_result"
    }
   ],
   "source": [
    "train_df.Avg_Account_Balance.describe()"
   ]
  },
  {
   "cell_type": "code",
   "execution_count": 27,
   "id": "senior-vaccine",
   "metadata": {
    "execution": {
     "iopub.execute_input": "2021-06-07T16:28:46.677113Z",
     "iopub.status.busy": "2021-06-07T16:28:46.676440Z",
     "iopub.status.idle": "2021-06-07T16:28:46.857536Z",
     "shell.execute_reply": "2021-06-07T16:28:46.856878Z",
     "shell.execute_reply.started": "2021-06-07T06:34:40.150186Z"
    },
    "papermill": {
     "duration": 0.267901,
     "end_time": "2021-06-07T16:28:46.857700",
     "exception": false,
     "start_time": "2021-06-07T16:28:46.589799",
     "status": "completed"
    },
    "tags": []
   },
   "outputs": [
    {
     "data": {
      "text/plain": [
       "<AxesSubplot:xlabel='Age'>"
      ]
     },
     "execution_count": 27,
     "metadata": {},
     "output_type": "execute_result"
    },
    {
     "data": {
      "image/png": "[encoded data removed]",
      "text/plain": [
       "<Figure size 432x288 with 1 Axes>"
      ]
     },
     "metadata": {},
     "output_type": "display_data"
    }
   ],
   "source": [
    "sns.boxplot(x=train_df['Age'],palette=\"YlGnBu\")"
   ]
  },
  {
   "cell_type": "code",
   "execution_count": 28,
   "id": "potential-credits",
   "metadata": {
    "execution": {
     "iopub.execute_input": "2021-06-07T16:28:47.033244Z",
     "iopub.status.busy": "2021-06-07T16:28:47.032544Z",
     "iopub.status.idle": "2021-06-07T16:28:47.205109Z",
     "shell.execute_reply": "2021-06-07T16:28:47.204404Z",
     "shell.execute_reply.started": "2021-06-07T06:34:40.327923Z"
    },
    "papermill": {
     "duration": 0.262924,
     "end_time": "2021-06-07T16:28:47.205273",
     "exception": false,
     "start_time": "2021-06-07T16:28:46.942349",
     "status": "completed"
    },
    "tags": []
   },
   "outputs": [
    {
     "data": {
      "text/plain": [
       "<AxesSubplot:xlabel='Vintage'>"
      ]
     },
     "execution_count": 28,
     "metadata": {},
     "output_type": "execute_result"
    },
    {
     "data": {
      "image/png": "[encoded data removed]",
      "text/plain": [
       "<Figure size 432x288 with 1 Axes>"
      ]
     },
     "metadata": {},
     "output_type": "display_data"
    }
   ],
   "source": [
    "sns.boxplot(x=train_df['Vintage'],palette=\"YlGnBu\")"
   ]
  },
  {
   "cell_type": "markdown",
   "id": "changing-buddy",
   "metadata": {
    "papermill": {
     "duration": 0.087336,
     "end_time": "2021-06-07T16:28:47.377328",
     "exception": false,
     "start_time": "2021-06-07T16:28:47.289992",
     "status": "completed"
    },
    "tags": []
   },
   "source": [
    "#### From the above plots we can easily see outliers are present "
   ]
  },
  {
   "cell_type": "markdown",
   "id": "comprehensive-collector",
   "metadata": {
    "papermill": {
     "duration": 0.087579,
     "end_time": "2021-06-07T16:28:47.564594",
     "exception": false,
     "start_time": "2021-06-07T16:28:47.477015",
     "status": "completed"
    },
    "tags": []
   },
   "source": [
    "### ` Data Cleaning and Imputation for missing values, outliers and categorical values. `"
   ]
  },
  {
   "cell_type": "code",
   "execution_count": 29,
   "id": "polish-hepatitis",
   "metadata": {
    "execution": {
     "iopub.execute_input": "2021-06-07T16:28:47.780099Z",
     "iopub.status.busy": "2021-06-07T16:28:47.779360Z",
     "iopub.status.idle": "2021-06-07T16:28:47.802993Z",
     "shell.execute_reply": "2021-06-07T16:28:47.801979Z",
     "shell.execute_reply.started": "2021-06-07T06:34:40.50602Z"
    },
    "papermill": {
     "duration": 0.138611,
     "end_time": "2021-06-07T16:28:47.803194",
     "exception": false,
     "start_time": "2021-06-07T16:28:47.664583",
     "status": "completed"
    },
    "tags": []
   },
   "outputs": [],
   "source": [
    "# Handling Missing Values\n",
    "new_train = train_df\n",
    "new_test = test_df\n",
    "\n",
    "new_train[\"Credit_Product\"] = new_train[\"Credit_Product\"].replace(np.nan,\"Unknown\")\n",
    "new_test[\"Credit_Product\"] = new_test[\"Credit_Product\"].replace(np.nan,\"Unknown\")"
   ]
  },
  {
   "cell_type": "code",
   "execution_count": 30,
   "id": "quick-manhattan",
   "metadata": {
    "execution": {
     "iopub.execute_input": "2021-06-07T16:28:48.145698Z",
     "iopub.status.busy": "2021-06-07T16:28:48.144684Z",
     "iopub.status.idle": "2021-06-07T16:28:48.158682Z",
     "shell.execute_reply": "2021-06-07T16:28:48.158008Z",
     "shell.execute_reply.started": "2021-06-07T06:34:40.551672Z"
    },
    "papermill": {
     "duration": 0.260857,
     "end_time": "2021-06-07T16:28:48.158841",
     "exception": false,
     "start_time": "2021-06-07T16:28:47.897984",
     "status": "completed"
    },
    "tags": []
   },
   "outputs": [
    {
     "data": {
      "text/plain": [
       "ID                     0.0\n",
       "Gender                 0.0\n",
       "Age                    0.0\n",
       "Region_Code            0.0\n",
       "Occupation             0.0\n",
       "Channel_Code           0.0\n",
       "Vintage                0.0\n",
       "Credit_Product         0.0\n",
       "Avg_Account_Balance    0.0\n",
       "Is_Active              0.0\n",
       "Is_Lead                0.0\n",
       "dtype: float64"
      ]
     },
     "execution_count": 30,
     "metadata": {},
     "output_type": "execute_result"
    }
   ],
   "source": [
    "# % of Null columns \n",
    "round((train_df.isnull().sum() / len(train_df)) * 100,2)"
   ]
  },
  {
   "cell_type": "code",
   "execution_count": 31,
   "id": "raising-merit",
   "metadata": {
    "execution": {
     "iopub.execute_input": "2021-06-07T16:28:48.398896Z",
     "iopub.status.busy": "2021-06-07T16:28:48.397846Z",
     "iopub.status.idle": "2021-06-07T16:28:48.410207Z",
     "shell.execute_reply": "2021-06-07T16:28:48.409645Z",
     "shell.execute_reply.started": "2021-06-07T06:34:40.719034Z"
    },
    "papermill": {
     "duration": 0.166127,
     "end_time": "2021-06-07T16:28:48.410394",
     "exception": false,
     "start_time": "2021-06-07T16:28:48.244267",
     "status": "completed"
    },
    "tags": []
   },
   "outputs": [
    {
     "data": {
      "text/plain": [
       "ID                     0.0\n",
       "Gender                 0.0\n",
       "Age                    0.0\n",
       "Region_Code            0.0\n",
       "Occupation             0.0\n",
       "Channel_Code           0.0\n",
       "Vintage                0.0\n",
       "Credit_Product         0.0\n",
       "Avg_Account_Balance    0.0\n",
       "Is_Active              0.0\n",
       "dtype: float64"
      ]
     },
     "execution_count": 31,
     "metadata": {},
     "output_type": "execute_result"
    }
   ],
   "source": [
    "round((new_test.isnull().sum() / len(new_test)) * 100,2)"
   ]
  },
  {
   "cell_type": "code",
   "execution_count": 32,
   "id": "seven-audience",
   "metadata": {
    "execution": {
     "iopub.execute_input": "2021-06-07T16:28:48.587067Z",
     "iopub.status.busy": "2021-06-07T16:28:48.585807Z",
     "iopub.status.idle": "2021-06-07T16:28:48.593600Z",
     "shell.execute_reply": "2021-06-07T16:28:48.593017Z",
     "shell.execute_reply.started": "2021-06-07T06:34:40.799107Z"
    },
    "papermill": {
     "duration": 0.098118,
     "end_time": "2021-06-07T16:28:48.593763",
     "exception": false,
     "start_time": "2021-06-07T16:28:48.495645",
     "status": "completed"
    },
    "tags": []
   },
   "outputs": [],
   "source": [
    "# Removing outliers\n",
    "new_train['Z_Score'] = zscore(new_train['Avg_Account_Balance'])\n"
   ]
  },
  {
   "cell_type": "code",
   "execution_count": 33,
   "id": "norman-grass",
   "metadata": {
    "execution": {
     "iopub.execute_input": "2021-06-07T16:28:48.770878Z",
     "iopub.status.busy": "2021-06-07T16:28:48.770045Z",
     "iopub.status.idle": "2021-06-07T16:28:48.805436Z",
     "shell.execute_reply": "2021-06-07T16:28:48.804443Z",
     "shell.execute_reply.started": "2021-06-07T06:34:40.810178Z"
    },
    "papermill": {
     "duration": 0.127184,
     "end_time": "2021-06-07T16:28:48.805600",
     "exception": false,
     "start_time": "2021-06-07T16:28:48.678416",
     "status": "completed"
    },
    "tags": []
   },
   "outputs": [],
   "source": [
    "new_train = new_train.loc[new_train['Z_Score'].abs() < 1]\n"
   ]
  },
  {
   "cell_type": "code",
   "execution_count": 34,
   "id": "female-stock",
   "metadata": {
    "execution": {
     "iopub.execute_input": "2021-06-07T16:28:48.982652Z",
     "iopub.status.busy": "2021-06-07T16:28:48.981947Z",
     "iopub.status.idle": "2021-06-07T16:28:49.172802Z",
     "shell.execute_reply": "2021-06-07T16:28:49.172141Z",
     "shell.execute_reply.started": "2021-06-07T06:34:40.844769Z"
    },
    "papermill": {
     "duration": 0.279927,
     "end_time": "2021-06-07T16:28:49.172976",
     "exception": false,
     "start_time": "2021-06-07T16:28:48.893049",
     "status": "completed"
    },
    "tags": []
   },
   "outputs": [
    {
     "data": {
      "text/plain": [
       "<AxesSubplot:xlabel='Avg_Account_Balance'>"
      ]
     },
     "execution_count": 34,
     "metadata": {},
     "output_type": "execute_result"
    },
    {
     "data": {
      "image/png": "[encoded data removed]",
      "text/plain": [
       "<Figure size 432x288 with 1 Axes>"
      ]
     },
     "metadata": {},
     "output_type": "display_data"
    }
   ],
   "source": [
    "# Lets check if any outliers\n",
    "sns.boxplot(x=new_train['Avg_Account_Balance'], palette=\"YlGnBu\")"
   ]
  },
  {
   "cell_type": "code",
   "execution_count": 35,
   "id": "similar-laundry",
   "metadata": {
    "execution": {
     "iopub.execute_input": "2021-06-07T16:28:49.351800Z",
     "iopub.status.busy": "2021-06-07T16:28:49.350687Z",
     "iopub.status.idle": "2021-06-07T16:28:49.355815Z",
     "shell.execute_reply": "2021-06-07T16:28:49.355175Z",
     "shell.execute_reply.started": "2021-06-07T06:34:41.242663Z"
    },
    "papermill": {
     "duration": 0.098242,
     "end_time": "2021-06-07T16:28:49.355979",
     "exception": false,
     "start_time": "2021-06-07T16:28:49.257737",
     "status": "completed"
    },
    "tags": []
   },
   "outputs": [
    {
     "data": {
      "text/plain": [
       "0        -0.096968\n",
       "1        -0.640630\n",
       "2         0.417279\n",
       "3        -0.771395\n",
       "4        -0.283276\n",
       "            ...   \n",
       "245720    0.934635\n",
       "245721   -0.311221\n",
       "245722   -0.536670\n",
       "245723   -0.845199\n",
       "245724    0.001023\n",
       "Name: Z_Score, Length: 214330, dtype: float64"
      ]
     },
     "execution_count": 35,
     "metadata": {},
     "output_type": "execute_result"
    }
   ],
   "source": [
    "new_train.pop(\"Z_Score\")"
   ]
  },
  {
   "cell_type": "code",
   "execution_count": 36,
   "id": "local-society",
   "metadata": {
    "execution": {
     "iopub.execute_input": "2021-06-07T16:28:49.530119Z",
     "iopub.status.busy": "2021-06-07T16:28:49.529479Z",
     "iopub.status.idle": "2021-06-07T16:28:49.535532Z",
     "shell.execute_reply": "2021-06-07T16:28:49.534711Z",
     "shell.execute_reply.started": "2021-06-07T06:34:41.252963Z"
    },
    "papermill": {
     "duration": 0.095275,
     "end_time": "2021-06-07T16:28:49.535723",
     "exception": false,
     "start_time": "2021-06-07T16:28:49.440448",
     "status": "completed"
    },
    "tags": []
   },
   "outputs": [
    {
     "name": "stdout",
     "output_type": "stream",
     "text": [
      "Train dataset shape -  (214330, 11)\n",
      "Test dataset shape -  (105312, 10)\n"
     ]
    }
   ],
   "source": [
    "# Checking Shape\n",
    "print ( \"Train dataset shape - \" , new_train.shape)\n",
    "print ( \"Test dataset shape - \" , new_test.shape )"
   ]
  },
  {
   "cell_type": "code",
   "execution_count": 37,
   "id": "ruled-milan",
   "metadata": {
    "execution": {
     "iopub.execute_input": "2021-06-07T16:28:49.712797Z",
     "iopub.status.busy": "2021-06-07T16:28:49.711952Z",
     "iopub.status.idle": "2021-06-07T16:28:49.716529Z",
     "shell.execute_reply": "2021-06-07T16:28:49.715912Z",
     "shell.execute_reply.started": "2021-06-07T06:34:41.269774Z"
    },
    "papermill": {
     "duration": 0.095282,
     "end_time": "2021-06-07T16:28:49.716666",
     "exception": false,
     "start_time": "2021-06-07T16:28:49.621384",
     "status": "completed"
    },
    "tags": []
   },
   "outputs": [
    {
     "data": {
      "text/plain": [
       "'def age_cat(age):\\n    if age <40:\\n        return \"Age_Below_40_year\"\\n    elif age > 40 and age < 60:\\n        return \"Age_40_To_60_year\"\\n    else:\\n        return \"Age_Above_60_year\"\\n        \\ndef vint_cat(vintage):\\n    if vintage <40:\\n        return \"Vintage_Below_40_months\"\\n    elif vintage > 40 and vintage < 60:\\n        return \"Vintage_40_To_60_months\"\\n    else:\\n        return \"Vintage_Above_60_months'"
      ]
     },
     "execution_count": 37,
     "metadata": {},
     "output_type": "execute_result"
    }
   ],
   "source": [
    "# Tried imputing numeric -> catogries But, Degraded the performance \n",
    "\"\"\"def age_cat(age):\n",
    "    if age <40:\n",
    "        return \"Age_Below_40_year\"\n",
    "    elif age > 40 and age < 60:\n",
    "        return \"Age_40_To_60_year\"\n",
    "    else:\n",
    "        return \"Age_Above_60_year\"\n",
    "        \n",
    "def vint_cat(vintage):\n",
    "    if vintage <40:\n",
    "        return \"Vintage_Below_40_months\"\n",
    "    elif vintage > 40 and vintage < 60:\n",
    "        return \"Vintage_40_To_60_months\"\n",
    "    else:\n",
    "        return \"Vintage_Above_60_months\"\"\"\n",
    "    "
   ]
  },
  {
   "cell_type": "code",
   "execution_count": 38,
   "id": "cosmetic-theta",
   "metadata": {
    "execution": {
     "iopub.execute_input": "2021-06-07T16:28:49.896884Z",
     "iopub.status.busy": "2021-06-07T16:28:49.896087Z",
     "iopub.status.idle": "2021-06-07T16:28:49.898760Z",
     "shell.execute_reply": "2021-06-07T16:28:49.898073Z",
     "shell.execute_reply.started": "2021-06-07T06:34:41.286161Z"
    },
    "papermill": {
     "duration": 0.097404,
     "end_time": "2021-06-07T16:28:49.898917",
     "exception": false,
     "start_time": "2021-06-07T16:28:49.801513",
     "status": "completed"
    },
    "tags": []
   },
   "outputs": [],
   "source": [
    "# Imputing Age \n",
    "#new_train[\"Age\"] = new_train[\"Age\"].map(lambda x: age_cat(x))\n",
    "#new_test[\"Age\"] = new_test[\"Age\"].map(lambda x: age_cat(x))\n",
    "\n",
    "# Imputing Vintage\n",
    "#new_train[\"Vintage\"] = new_train[\"Vintage\"].map(lambda x: vint_cat(x))\n",
    "#new_test[\"Vintage\"] = new_test[\"Vintage\"].map(lambda x: vint_cat(x))"
   ]
  },
  {
   "cell_type": "code",
   "execution_count": 39,
   "id": "traditional-peripheral",
   "metadata": {
    "execution": {
     "iopub.execute_input": "2021-06-07T16:28:50.078848Z",
     "iopub.status.busy": "2021-06-07T16:28:50.078148Z",
     "iopub.status.idle": "2021-06-07T16:28:50.081798Z",
     "shell.execute_reply": "2021-06-07T16:28:50.082363Z",
     "shell.execute_reply.started": "2021-06-07T06:34:41.30332Z"
    },
    "papermill": {
     "duration": 0.097577,
     "end_time": "2021-06-07T16:28:50.082561",
     "exception": false,
     "start_time": "2021-06-07T16:28:49.984984",
     "status": "completed"
    },
    "tags": []
   },
   "outputs": [
    {
     "name": "stdout",
     "output_type": "stream",
     "text": [
      "Train dataset shape -  (214330, 11)\n",
      "Test dataset shape -  (105312, 10)\n"
     ]
    }
   ],
   "source": [
    "# Checking Shape\n",
    "print ( \"Train dataset shape - \" , new_train.shape )\n",
    "print ( \"Test dataset shape - \" , new_test.shape )"
   ]
  },
  {
   "cell_type": "code",
   "execution_count": 40,
   "id": "surface-clearance",
   "metadata": {
    "execution": {
     "iopub.execute_input": "2021-06-07T16:28:50.388173Z",
     "iopub.status.busy": "2021-06-07T16:28:50.387491Z",
     "iopub.status.idle": "2021-06-07T16:28:50.403347Z",
     "shell.execute_reply": "2021-06-07T16:28:50.402377Z",
     "shell.execute_reply.started": "2021-06-07T06:34:41.318398Z"
    },
    "papermill": {
     "duration": 0.23542,
     "end_time": "2021-06-07T16:28:50.403567",
     "exception": false,
     "start_time": "2021-06-07T16:28:50.168147",
     "status": "completed"
    },
    "tags": []
   },
   "outputs": [
    {
     "name": "stdout",
     "output_type": "stream",
     "text": [
      "<class 'pandas.core.frame.DataFrame'>\n",
      "Int64Index: 214330 entries, 0 to 245724\n",
      "Data columns (total 11 columns):\n",
      " #   Column               Non-Null Count   Dtype \n",
      "---  ------               --------------   ----- \n",
      " 0   ID                   214330 non-null  object\n",
      " 1   Gender               214330 non-null  object\n",
      " 2   Age                  214330 non-null  int64 \n",
      " 3   Region_Code          214330 non-null  object\n",
      " 4   Occupation           214330 non-null  object\n",
      " 5   Channel_Code         214330 non-null  object\n",
      " 6   Vintage              214330 non-null  int64 \n",
      " 7   Credit_Product       214330 non-null  object\n",
      " 8   Avg_Account_Balance  214330 non-null  int64 \n",
      " 9   Is_Active            214330 non-null  object\n",
      " 10  Is_Lead              214330 non-null  int64 \n",
      "dtypes: int64(4), object(7)\n",
      "memory usage: 19.6+ MB\n"
     ]
    }
   ],
   "source": [
    "new_train.info()"
   ]
  },
  {
   "cell_type": "code",
   "execution_count": 41,
   "id": "assumed-insulin",
   "metadata": {
    "execution": {
     "iopub.execute_input": "2021-06-07T16:28:50.584500Z",
     "iopub.status.busy": "2021-06-07T16:28:50.583764Z",
     "iopub.status.idle": "2021-06-07T16:28:50.604668Z",
     "shell.execute_reply": "2021-06-07T16:28:50.603995Z",
     "shell.execute_reply.started": "2021-06-07T06:34:41.474874Z"
    },
    "papermill": {
     "duration": 0.113203,
     "end_time": "2021-06-07T16:28:50.604830",
     "exception": false,
     "start_time": "2021-06-07T16:28:50.491627",
     "status": "completed"
    },
    "tags": []
   },
   "outputs": [
    {
     "data": {
      "text/plain": [
       "0         RG254\n",
       "1         RG268\n",
       "2         RG270\n",
       "3         RG272\n",
       "4         RG270\n",
       "          ...  \n",
       "105307    RG268\n",
       "105308    RG277\n",
       "105309    RG254\n",
       "105310    RG254\n",
       "105311    RG256\n",
       "Name: Region_Code, Length: 105312, dtype: object"
      ]
     },
     "execution_count": 41,
     "metadata": {},
     "output_type": "execute_result"
    }
   ],
   "source": [
    "# Removing ID from Datframe\n",
    "train_ID = new_train.pop(\"ID\")\n",
    "test_ID = new_test.pop(\"ID\")\n",
    "new_train.pop(\"Region_Code\")\n",
    "new_test.pop(\"Region_Code\")"
   ]
  },
  {
   "cell_type": "code",
   "execution_count": 42,
   "id": "august-research",
   "metadata": {
    "execution": {
     "iopub.execute_input": "2021-06-07T16:28:50.787584Z",
     "iopub.status.busy": "2021-06-07T16:28:50.786908Z",
     "iopub.status.idle": "2021-06-07T16:28:50.790114Z",
     "shell.execute_reply": "2021-06-07T16:28:50.789517Z",
     "shell.execute_reply.started": "2021-06-07T06:34:41.523715Z"
    },
    "papermill": {
     "duration": 0.098233,
     "end_time": "2021-06-07T16:28:50.790258",
     "exception": false,
     "start_time": "2021-06-07T16:28:50.692025",
     "status": "completed"
    },
    "tags": []
   },
   "outputs": [
    {
     "name": "stdout",
     "output_type": "stream",
     "text": [
      "['Gender', 'Occupation', 'Channel_Code', 'Credit_Product', 'Is_Active']\n"
     ]
    }
   ],
   "source": [
    "# now let's work on the categorical variables \n",
    "cat_variable = list(new_train.dtypes[new_train.dtypes == 'object'].index)\n",
    "print(cat_variable)"
   ]
  },
  {
   "cell_type": "code",
   "execution_count": 43,
   "id": "liable-distinction",
   "metadata": {
    "execution": {
     "iopub.execute_input": "2021-06-07T16:28:51.026619Z",
     "iopub.status.busy": "2021-06-07T16:28:51.015941Z",
     "iopub.status.idle": "2021-06-07T16:28:51.588664Z",
     "shell.execute_reply": "2021-06-07T16:28:51.588130Z",
     "shell.execute_reply.started": "2021-06-07T06:34:41.532816Z"
    },
    "papermill": {
     "duration": 0.686597,
     "end_time": "2021-06-07T16:28:51.588839",
     "exception": false,
     "start_time": "2021-06-07T16:28:50.902242",
     "status": "completed"
    },
    "tags": []
   },
   "outputs": [],
   "source": [
    "# Assigning Dummies to cat_variable\n",
    "\n",
    "#final_train = pd.get_dummies(new_train, columns=cat_variable,drop_first=True)\n",
    "#final_test = pd.get_dummies(new_test, columns=cat_variable,drop_first=True)\n",
    "\n",
    "# Lable encoder\n",
    "from sklearn.preprocessing import LabelEncoder\n",
    "\n",
    "Lab_enode = LabelEncoder()\n",
    "\n",
    "for i in cat_variable:\n",
    "    \n",
    "    new_train[i] = Lab_enode.fit_transform(new_train[i])\n",
    "    new_test[i] = Lab_enode.fit_transform(new_test[i])"
   ]
  },
  {
   "cell_type": "code",
   "execution_count": 44,
   "id": "educational-conspiracy",
   "metadata": {
    "execution": {
     "iopub.execute_input": "2021-06-07T16:28:51.819821Z",
     "iopub.status.busy": "2021-06-07T16:28:51.819165Z",
     "iopub.status.idle": "2021-06-07T16:28:51.834151Z",
     "shell.execute_reply": "2021-06-07T16:28:51.833520Z",
     "shell.execute_reply.started": "2021-06-07T06:34:42.121837Z"
    },
    "papermill": {
     "duration": 0.159888,
     "end_time": "2021-06-07T16:28:51.834320",
     "exception": false,
     "start_time": "2021-06-07T16:28:51.674432",
     "status": "completed"
    },
    "tags": []
   },
   "outputs": [
    {
     "name": "stdout",
     "output_type": "stream",
     "text": [
      "<class 'pandas.core.frame.DataFrame'>\n",
      "Int64Index: 214330 entries, 0 to 245724\n",
      "Data columns (total 9 columns):\n",
      " #   Column               Non-Null Count   Dtype\n",
      "---  ------               --------------   -----\n",
      " 0   Gender               214330 non-null  int64\n",
      " 1   Age                  214330 non-null  int64\n",
      " 2   Occupation           214330 non-null  int64\n",
      " 3   Channel_Code         214330 non-null  int64\n",
      " 4   Vintage              214330 non-null  int64\n",
      " 5   Credit_Product       214330 non-null  int64\n",
      " 6   Avg_Account_Balance  214330 non-null  int64\n",
      " 7   Is_Active            214330 non-null  int64\n",
      " 8   Is_Lead              214330 non-null  int64\n",
      "dtypes: int64(9)\n",
      "memory usage: 16.4 MB\n"
     ]
    }
   ],
   "source": [
    "new_train.info()"
   ]
  },
  {
   "cell_type": "code",
   "execution_count": 45,
   "id": "rental-wound",
   "metadata": {
    "execution": {
     "iopub.execute_input": "2021-06-07T16:28:52.015343Z",
     "iopub.status.busy": "2021-06-07T16:28:52.014657Z",
     "iopub.status.idle": "2021-06-07T16:28:52.017597Z",
     "shell.execute_reply": "2021-06-07T16:28:52.018093Z",
     "shell.execute_reply.started": "2021-06-07T06:34:42.145413Z"
    },
    "papermill": {
     "duration": 0.095363,
     "end_time": "2021-06-07T16:28:52.018309",
     "exception": false,
     "start_time": "2021-06-07T16:28:51.922946",
     "status": "completed"
    },
    "tags": []
   },
   "outputs": [],
   "source": [
    "\n",
    "\n",
    "final_train = new_train\n",
    "final_test = new_test"
   ]
  },
  {
   "cell_type": "code",
   "execution_count": 46,
   "id": "wanted-undergraduate",
   "metadata": {
    "execution": {
     "iopub.execute_input": "2021-06-07T16:28:52.196075Z",
     "iopub.status.busy": "2021-06-07T16:28:52.195378Z",
     "iopub.status.idle": "2021-06-07T16:28:52.198648Z",
     "shell.execute_reply": "2021-06-07T16:28:52.199492Z",
     "shell.execute_reply.started": "2021-06-07T06:34:42.154831Z"
    },
    "papermill": {
     "duration": 0.095228,
     "end_time": "2021-06-07T16:28:52.199739",
     "exception": false,
     "start_time": "2021-06-07T16:28:52.104511",
     "status": "completed"
    },
    "tags": []
   },
   "outputs": [
    {
     "name": "stdout",
     "output_type": "stream",
     "text": [
      "Train dataset shape -  (214330, 9)\n",
      "Test dataset shape -  (105312, 8)\n"
     ]
    }
   ],
   "source": [
    "# Checking Shape\n",
    "print ( \"Train dataset shape - \" , final_train.shape )\n",
    "print ( \"Test dataset shape - \" , final_test.shape )\n",
    "\n"
   ]
  },
  {
   "cell_type": "code",
   "execution_count": 47,
   "id": "abroad-disco",
   "metadata": {
    "execution": {
     "iopub.execute_input": "2021-06-07T16:28:52.382488Z",
     "iopub.status.busy": "2021-06-07T16:28:52.381798Z",
     "iopub.status.idle": "2021-06-07T16:28:52.412471Z",
     "shell.execute_reply": "2021-06-07T16:28:52.411835Z",
     "shell.execute_reply.started": "2021-06-07T06:34:42.169762Z"
    },
    "papermill": {
     "duration": 0.123533,
     "end_time": "2021-06-07T16:28:52.412644",
     "exception": false,
     "start_time": "2021-06-07T16:28:52.289111",
     "status": "completed"
    },
    "tags": []
   },
   "outputs": [],
   "source": [
    "X = final_train.loc[:, final_train.columns !='Is_Lead' ]\n",
    "y = final_train.loc[:, final_train.columns == 'Is_Lead']\n",
    "test = final_test.loc[:,final_test.columns]\n"
   ]
  },
  {
   "cell_type": "code",
   "execution_count": null,
   "id": "prepared-graduation",
   "metadata": {
    "papermill": {
     "duration": 0.087074,
     "end_time": "2021-06-07T16:28:52.588070",
     "exception": false,
     "start_time": "2021-06-07T16:28:52.500996",
     "status": "completed"
    },
    "tags": []
   },
   "outputs": [],
   "source": []
  },
  {
   "cell_type": "code",
   "execution_count": 48,
   "id": "noble-moral",
   "metadata": {
    "execution": {
     "iopub.execute_input": "2021-06-07T16:28:52.767898Z",
     "iopub.status.busy": "2021-06-07T16:28:52.767164Z",
     "iopub.status.idle": "2021-06-07T16:28:52.781571Z",
     "shell.execute_reply": "2021-06-07T16:28:52.782033Z",
     "shell.execute_reply.started": "2021-06-07T06:34:42.209594Z"
    },
    "papermill": {
     "duration": 0.106617,
     "end_time": "2021-06-07T16:28:52.782249",
     "exception": false,
     "start_time": "2021-06-07T16:28:52.675632",
     "status": "completed"
    },
    "tags": []
   },
   "outputs": [
    {
     "name": "stdout",
     "output_type": "stream",
     "text": [
      "<class 'pandas.core.frame.DataFrame'>\n",
      "RangeIndex: 105312 entries, 0 to 105311\n",
      "Data columns (total 8 columns):\n",
      " #   Column               Non-Null Count   Dtype\n",
      "---  ------               --------------   -----\n",
      " 0   Gender               105312 non-null  int64\n",
      " 1   Age                  105312 non-null  int64\n",
      " 2   Occupation           105312 non-null  int64\n",
      " 3   Channel_Code         105312 non-null  int64\n",
      " 4   Vintage              105312 non-null  int64\n",
      " 5   Credit_Product       105312 non-null  int64\n",
      " 6   Avg_Account_Balance  105312 non-null  int64\n",
      " 7   Is_Active            105312 non-null  int64\n",
      "dtypes: int64(8)\n",
      "memory usage: 6.4 MB\n"
     ]
    }
   ],
   "source": [
    "test.info()"
   ]
  },
  {
   "cell_type": "markdown",
   "id": "dying-script",
   "metadata": {
    "papermill": {
     "duration": 0.089797,
     "end_time": "2021-06-07T16:28:52.960250",
     "exception": false,
     "start_time": "2021-06-07T16:28:52.870453",
     "status": "completed"
    },
    "tags": []
   },
   "source": [
    "### ` Modeling`"
   ]
  },
  {
   "cell_type": "code",
   "execution_count": 49,
   "id": "wooden-performance",
   "metadata": {
    "execution": {
     "iopub.execute_input": "2021-06-07T16:28:53.146017Z",
     "iopub.status.busy": "2021-06-07T16:28:53.145059Z",
     "iopub.status.idle": "2021-06-07T16:28:53.148392Z",
     "shell.execute_reply": "2021-06-07T16:28:53.147835Z",
     "shell.execute_reply.started": "2021-06-07T06:34:42.229413Z"
    },
    "papermill": {
     "duration": 0.100651,
     "end_time": "2021-06-07T16:28:53.148533",
     "exception": false,
     "start_time": "2021-06-07T16:28:53.047882",
     "status": "completed"
    },
    "tags": []
   },
   "outputs": [],
   "source": [
    "# Creating a function to report confusion metrics\n",
    "def confusion_metrics (conf_matrix):\n",
    "# save confusion matrix and slice into four pieces\n",
    "    TP = conf_matrix[1][1]\n",
    "    TN = conf_matrix[0][0]\n",
    "    FP = conf_matrix[0][1]\n",
    "    FN = conf_matrix[1][0]\n",
    "    print('True Positives:', TP)\n",
    "    print('True Negatives:', TN)\n",
    "    print('False Positives:', FP)\n",
    "    print('False Negatives:', FN)\n",
    "    \n",
    "    # calculate accuracy\n",
    "    conf_accuracy = (float (TP+TN) / float(TP + TN + FP + FN))\n",
    "    \n",
    "    # calculate mis-classification\n",
    "    conf_misclassification = 1- conf_accuracy\n",
    "    \n",
    "    # calculate the sensitivity\n",
    "    conf_sensitivity = (TP / float(TP + FN))\n",
    "    # calculate the specificity\n",
    "    conf_specificity = (TN / float(TN + FP))\n",
    "    \n",
    "    # calculate precision\n",
    "    conf_precision = (TN / float(TN + FP))\n",
    "    # calculate f_1 score\n",
    "    conf_f1 = 2 * ((conf_precision * conf_sensitivity) / (conf_precision + conf_sensitivity))\n",
    "    print('-'*50)\n",
    "    print(f'Accuracy: {round(conf_accuracy,2)}') \n",
    "    print(f'Mis-Classification: {round(conf_misclassification,2)}') \n",
    "    print(f'Sensitivity: {round(conf_sensitivity,2)}') \n",
    "    print(f'Specificity: {round(conf_specificity,2)}') \n",
    "    print(f'Precision: {round(conf_precision,2)}')\n",
    "    print(f'f_1 Score: {round(conf_f1,2)}')"
   ]
  },
  {
   "cell_type": "code",
   "execution_count": 50,
   "id": "nasty-orbit",
   "metadata": {
    "execution": {
     "iopub.execute_input": "2021-06-07T16:28:53.348795Z",
     "iopub.status.busy": "2021-06-07T16:28:53.338181Z",
     "iopub.status.idle": "2021-06-07T16:28:54.789201Z",
     "shell.execute_reply": "2021-06-07T16:28:54.788556Z",
     "shell.execute_reply.started": "2021-06-07T06:34:42.240112Z"
    },
    "papermill": {
     "duration": 1.55432,
     "end_time": "2021-06-07T16:28:54.789368",
     "exception": false,
     "start_time": "2021-06-07T16:28:53.235048",
     "status": "completed"
    },
    "tags": []
   },
   "outputs": [],
   "source": [
    "# split and stratify\n",
    "X_train, X_test, y_train, y_test = train_test_split(X,y, test_size = 0.3, random_state = seed,stratify=y )"
   ]
  },
  {
   "cell_type": "code",
   "execution_count": 51,
   "id": "behavioral-compatibility",
   "metadata": {
    "execution": {
     "iopub.execute_input": "2021-06-07T16:28:54.970524Z",
     "iopub.status.busy": "2021-06-07T16:28:54.969909Z",
     "iopub.status.idle": "2021-06-07T16:28:54.982071Z",
     "shell.execute_reply": "2021-06-07T16:28:54.982523Z",
     "shell.execute_reply.started": "2021-06-07T06:34:43.684832Z"
    },
    "papermill": {
     "duration": 0.105604,
     "end_time": "2021-06-07T16:28:54.982692",
     "exception": false,
     "start_time": "2021-06-07T16:28:54.877088",
     "status": "completed"
    },
    "tags": []
   },
   "outputs": [
    {
     "name": "stdout",
     "output_type": "stream",
     "text": [
      "Is_Lead\n",
      "0          0.766075\n",
      "1          0.233925\n",
      "dtype: float64\n",
      "Is_Lead\n",
      "0          0.766077\n",
      "1          0.233923\n",
      "dtype: float64\n"
     ]
    }
   ],
   "source": [
    "print(y_train.value_counts()/ len(y_train))\n",
    "print(y_test.value_counts()/ len(y_test))\n"
   ]
  },
  {
   "cell_type": "code",
   "execution_count": 52,
   "id": "angry-metropolitan",
   "metadata": {
    "execution": {
     "iopub.execute_input": "2021-06-07T16:28:55.166713Z",
     "iopub.status.busy": "2021-06-07T16:28:55.165989Z",
     "iopub.status.idle": "2021-06-07T16:28:56.231509Z",
     "shell.execute_reply": "2021-06-07T16:28:56.230960Z",
     "shell.execute_reply.started": "2021-06-07T06:34:43.703729Z"
    },
    "papermill": {
     "duration": 1.160101,
     "end_time": "2021-06-07T16:28:56.231657",
     "exception": false,
     "start_time": "2021-06-07T16:28:55.071556",
     "status": "completed"
    },
    "tags": []
   },
   "outputs": [
    {
     "data": {
      "text/plain": [
       "DecisionTreeClassifier()"
      ]
     },
     "execution_count": 52,
     "metadata": {},
     "output_type": "execute_result"
    }
   ],
   "source": [
    "#DecisionTree\n",
    "from sklearn.tree import DecisionTreeClassifier\n",
    "from sklearn.metrics import roc_auc_score\n",
    "\n",
    "dtree = DecisionTreeClassifier()\n",
    "dtree.fit(X_train,y_train)"
   ]
  },
  {
   "cell_type": "code",
   "execution_count": 53,
   "id": "homeless-humor",
   "metadata": {
    "execution": {
     "iopub.execute_input": "2021-06-07T16:28:56.413446Z",
     "iopub.status.busy": "2021-06-07T16:28:56.412390Z",
     "iopub.status.idle": "2021-06-07T16:28:56.538733Z",
     "shell.execute_reply": "2021-06-07T16:28:56.538191Z",
     "shell.execute_reply.started": "2021-06-07T06:34:44.820567Z"
    },
    "papermill": {
     "duration": 0.219886,
     "end_time": "2021-06-07T16:28:56.538871",
     "exception": false,
     "start_time": "2021-06-07T16:28:56.318985",
     "status": "completed"
    },
    "tags": []
   },
   "outputs": [
    {
     "data": {
      "text/plain": [
       "0.9132090150238898"
      ]
     },
     "execution_count": 53,
     "metadata": {},
     "output_type": "execute_result"
    }
   ],
   "source": [
    "roc_auc_score(y, dtree.predict_proba(X)[:, 1])"
   ]
  },
  {
   "cell_type": "code",
   "execution_count": 54,
   "id": "improved-peter",
   "metadata": {
    "execution": {
     "iopub.execute_input": "2021-06-07T16:28:56.721846Z",
     "iopub.status.busy": "2021-06-07T16:28:56.720835Z",
     "iopub.status.idle": "2021-06-07T16:28:56.835470Z",
     "shell.execute_reply": "2021-06-07T16:28:56.835944Z",
     "shell.execute_reply.started": "2021-06-07T06:34:44.963634Z"
    },
    "papermill": {
     "duration": 0.210397,
     "end_time": "2021-06-07T16:28:56.836111",
     "exception": false,
     "start_time": "2021-06-07T16:28:56.625714",
     "status": "completed"
    },
    "tags": []
   },
   "outputs": [
    {
     "name": "stdout",
     "output_type": "stream",
     "text": [
      "[[42271  6987]\n",
      " [ 6569  8472]]\n",
      "True Positives: 8472\n",
      "True Negatives: 42271\n",
      "False Positives: 6987\n",
      "False Negatives: 6569\n",
      "--------------------------------------------------\n",
      "Accuracy: 0.79\n",
      "Mis-Classification: 0.21\n",
      "Sensitivity: 0.56\n",
      "Specificity: 0.86\n",
      "Precision: 0.86\n",
      "f_1 Score: 0.68\n"
     ]
    }
   ],
   "source": [
    "\n",
    "\n",
    "y_pred = dtree.predict(X_test)\n",
    "\n",
    "# create onfusion matrix\n",
    "cm = confusion_matrix(y_test, y_pred)\n",
    "print(cm)\n",
    "confusion_metrics(cm)"
   ]
  },
  {
   "cell_type": "code",
   "execution_count": 55,
   "id": "natural-spanish",
   "metadata": {
    "execution": {
     "iopub.execute_input": "2021-06-07T16:28:57.019388Z",
     "iopub.status.busy": "2021-06-07T16:28:57.018735Z",
     "iopub.status.idle": "2021-06-07T16:28:57.063965Z",
     "shell.execute_reply": "2021-06-07T16:28:57.064459Z",
     "shell.execute_reply.started": "2021-06-07T06:34:45.094793Z"
    },
    "papermill": {
     "duration": 0.140458,
     "end_time": "2021-06-07T16:28:57.064627",
     "exception": false,
     "start_time": "2021-06-07T16:28:56.924169",
     "status": "completed"
    },
    "tags": []
   },
   "outputs": [
    {
     "data": {
      "text/plain": [
       "0.7107077210094053"
      ]
     },
     "execution_count": 55,
     "metadata": {},
     "output_type": "execute_result"
    }
   ],
   "source": [
    "y_pred = dtree.predict(X_test)\n",
    "roc_auc_score(y_test, y_pred)"
   ]
  },
  {
   "cell_type": "code",
   "execution_count": 56,
   "id": "instant-response",
   "metadata": {
    "execution": {
     "iopub.execute_input": "2021-06-07T16:28:57.246479Z",
     "iopub.status.busy": "2021-06-07T16:28:57.245858Z",
     "iopub.status.idle": "2021-06-07T16:29:15.431548Z",
     "shell.execute_reply": "2021-06-07T16:29:15.430987Z",
     "shell.execute_reply.started": "2021-06-07T06:34:45.146544Z"
    },
    "papermill": {
     "duration": 18.279014,
     "end_time": "2021-06-07T16:29:15.431704",
     "exception": false,
     "start_time": "2021-06-07T16:28:57.152690",
     "status": "completed"
    },
    "tags": []
   },
   "outputs": [
    {
     "data": {
      "text/plain": [
       "RandomForestClassifier()"
      ]
     },
     "execution_count": 56,
     "metadata": {},
     "output_type": "execute_result"
    }
   ],
   "source": [
    "#Random Forest\n",
    "from sklearn.ensemble import RandomForestClassifier,  GradientBoostingClassifier\n",
    "\n",
    "RF = RandomForestClassifier()\n",
    "RF.fit(X_train,y_train)"
   ]
  },
  {
   "cell_type": "code",
   "execution_count": 57,
   "id": "funny-reputation",
   "metadata": {
    "execution": {
     "iopub.execute_input": "2021-06-07T16:29:15.621826Z",
     "iopub.status.busy": "2021-06-07T16:29:15.621160Z",
     "iopub.status.idle": "2021-06-07T16:29:22.560326Z",
     "shell.execute_reply": "2021-06-07T16:29:22.560843Z",
     "shell.execute_reply.started": "2021-06-07T06:35:04.949183Z"
    },
    "papermill": {
     "duration": 7.037036,
     "end_time": "2021-06-07T16:29:22.561035",
     "exception": false,
     "start_time": "2021-06-07T16:29:15.523999",
     "status": "completed"
    },
    "tags": []
   },
   "outputs": [
    {
     "data": {
      "text/plain": [
       "0.9660212782945263"
      ]
     },
     "execution_count": 57,
     "metadata": {},
     "output_type": "execute_result"
    }
   ],
   "source": [
    "roc_auc_score(y, RF.predict_proba(X)[:, 1])\n"
   ]
  },
  {
   "cell_type": "code",
   "execution_count": 58,
   "id": "limited-blink",
   "metadata": {
    "execution": {
     "iopub.execute_input": "2021-06-07T16:29:22.748175Z",
     "iopub.status.busy": "2021-06-07T16:29:22.747558Z",
     "iopub.status.idle": "2021-06-07T16:29:24.986692Z",
     "shell.execute_reply": "2021-06-07T16:29:24.987193Z",
     "shell.execute_reply.started": "2021-06-07T06:35:12.34988Z"
    },
    "papermill": {
     "duration": 2.336581,
     "end_time": "2021-06-07T16:29:24.987405",
     "exception": false,
     "start_time": "2021-06-07T16:29:22.650824",
     "status": "completed"
    },
    "tags": []
   },
   "outputs": [
    {
     "data": {
      "text/plain": [
       "0.7526788573613867"
      ]
     },
     "execution_count": 58,
     "metadata": {},
     "output_type": "execute_result"
    }
   ],
   "source": [
    "y_pred = RF.predict(X_test)\n",
    "roc_auc_score(y_test, y_pred)"
   ]
  },
  {
   "cell_type": "code",
   "execution_count": 59,
   "id": "rocky-venice",
   "metadata": {
    "execution": {
     "iopub.execute_input": "2021-06-07T16:29:25.178432Z",
     "iopub.status.busy": "2021-06-07T16:29:25.177687Z",
     "iopub.status.idle": "2021-06-07T16:29:27.390186Z",
     "shell.execute_reply": "2021-06-07T16:29:27.389651Z",
     "shell.execute_reply.started": "2021-06-07T06:35:14.791604Z"
    },
    "papermill": {
     "duration": 2.309619,
     "end_time": "2021-06-07T16:29:27.390354",
     "exception": false,
     "start_time": "2021-06-07T16:29:25.080735",
     "status": "completed"
    },
    "tags": []
   },
   "outputs": [
    {
     "name": "stdout",
     "output_type": "stream",
     "text": [
      "True Positives: 8726\n",
      "True Negatives: 45574\n",
      "False Positives: 3684\n",
      "False Negatives: 6315\n",
      "--------------------------------------------------\n",
      "Accuracy: 0.84\n",
      "Mis-Classification: 0.16\n",
      "Sensitivity: 0.58\n",
      "Specificity: 0.93\n",
      "Precision: 0.93\n",
      "f_1 Score: 0.71\n"
     ]
    }
   ],
   "source": [
    "y_pred = RF.predict(X_test)\n",
    "\n",
    "# create onfusion matrix\n",
    "cm = confusion_matrix(y_test, y_pred)\n",
    "confusion_metrics(cm)"
   ]
  },
  {
   "cell_type": "code",
   "execution_count": null,
   "id": "pending-listening",
   "metadata": {
    "papermill": {
     "duration": 0.089653,
     "end_time": "2021-06-07T16:29:27.570232",
     "exception": false,
     "start_time": "2021-06-07T16:29:27.480579",
     "status": "completed"
    },
    "tags": []
   },
   "outputs": [],
   "source": []
  },
  {
   "cell_type": "code",
   "execution_count": 60,
   "id": "addressed-washer",
   "metadata": {
    "execution": {
     "iopub.execute_input": "2021-06-07T16:29:27.759533Z",
     "iopub.status.busy": "2021-06-07T16:29:27.758488Z",
     "iopub.status.idle": "2021-06-07T16:29:44.517375Z",
     "shell.execute_reply": "2021-06-07T16:29:44.516721Z",
     "shell.execute_reply.started": "2021-06-07T06:35:17.328381Z"
    },
    "papermill": {
     "duration": 16.856206,
     "end_time": "2021-06-07T16:29:44.517529",
     "exception": false,
     "start_time": "2021-06-07T16:29:27.661323",
     "status": "completed"
    },
    "tags": []
   },
   "outputs": [
    {
     "data": {
      "text/plain": [
       "GradientBoostingClassifier()"
      ]
     },
     "execution_count": 60,
     "metadata": {},
     "output_type": "execute_result"
    }
   ],
   "source": [
    "# GradientBoost\n",
    "from sklearn.ensemble import GradientBoostingClassifier\n",
    "GBC = GradientBoostingClassifier()\n",
    "GBC.fit(X_train,y_train)"
   ]
  },
  {
   "cell_type": "code",
   "execution_count": 61,
   "id": "tight-services",
   "metadata": {
    "execution": {
     "iopub.execute_input": "2021-06-07T16:29:44.706789Z",
     "iopub.status.busy": "2021-06-07T16:29:44.705789Z",
     "iopub.status.idle": "2021-06-07T16:29:45.343820Z",
     "shell.execute_reply": "2021-06-07T16:29:45.344584Z",
     "shell.execute_reply.started": "2021-06-07T06:48:43.498423Z"
    },
    "papermill": {
     "duration": 0.736754,
     "end_time": "2021-06-07T16:29:45.344911",
     "exception": false,
     "start_time": "2021-06-07T16:29:44.608157",
     "status": "completed"
    },
    "tags": []
   },
   "outputs": [
    {
     "name": "stdout",
     "output_type": "stream",
     "text": [
      "0.8731484345926821\n",
      "0.7531502805131914\n"
     ]
    }
   ],
   "source": [
    "print(roc_auc_score(y, GBC.predict_proba(X)[:, 1]))\n",
    "\n",
    "y_pred = GBC.predict(X_test)\n",
    "print(roc_auc_score(y_test, y_pred))"
   ]
  },
  {
   "cell_type": "code",
   "execution_count": null,
   "id": "allied-differential",
   "metadata": {
    "papermill": {
     "duration": 0.090281,
     "end_time": "2021-06-07T16:29:45.527497",
     "exception": false,
     "start_time": "2021-06-07T16:29:45.437216",
     "status": "completed"
    },
    "tags": []
   },
   "outputs": [],
   "source": []
  },
  {
   "cell_type": "code",
   "execution_count": null,
   "id": "defined-boutique",
   "metadata": {
    "papermill": {
     "duration": 0.089847,
     "end_time": "2021-06-07T16:29:45.708740",
     "exception": false,
     "start_time": "2021-06-07T16:29:45.618893",
     "status": "completed"
    },
    "tags": []
   },
   "outputs": [],
   "source": []
  },
  {
   "cell_type": "code",
   "execution_count": 62,
   "id": "naughty-plain",
   "metadata": {
    "execution": {
     "iopub.execute_input": "2021-06-07T16:29:45.914550Z",
     "iopub.status.busy": "2021-06-07T16:29:45.913776Z",
     "iopub.status.idle": "2021-06-07T16:30:21.375506Z",
     "shell.execute_reply": "2021-06-07T16:30:21.376019Z",
     "shell.execute_reply.started": "2021-06-07T06:49:44.811619Z"
    },
    "papermill": {
     "duration": 35.577295,
     "end_time": "2021-06-07T16:30:21.376211",
     "exception": false,
     "start_time": "2021-06-07T16:29:45.798916",
     "status": "completed"
    },
    "tags": []
   },
   "outputs": [
    {
     "data": {
      "text/plain": [
       "<catboost.core.CatBoostClassifier at 0x7f51bdc393d0>"
      ]
     },
     "execution_count": 62,
     "metadata": {},
     "output_type": "execute_result"
    }
   ],
   "source": [
    "# Trying CatBoost\n",
    "from catboost import CatBoostClassifier\n",
    "\n",
    "CBC = CatBoostClassifier(verbose=0)\n",
    "CBC.fit(X_train,y_train)"
   ]
  },
  {
   "cell_type": "code",
   "execution_count": 63,
   "id": "wicked-professional",
   "metadata": {
    "execution": {
     "iopub.execute_input": "2021-06-07T16:30:21.567620Z",
     "iopub.status.busy": "2021-06-07T16:30:21.566602Z",
     "iopub.status.idle": "2021-06-07T16:30:22.074607Z",
     "shell.execute_reply": "2021-06-07T16:30:22.075259Z",
     "shell.execute_reply.started": "2021-06-07T06:50:27.031998Z"
    },
    "papermill": {
     "duration": 0.607937,
     "end_time": "2021-06-07T16:30:22.075503",
     "exception": false,
     "start_time": "2021-06-07T16:30:21.467566",
     "status": "completed"
    },
    "tags": []
   },
   "outputs": [
    {
     "name": "stdout",
     "output_type": "stream",
     "text": [
      "0.8853051015726219\n",
      "0.7563503835655251\n"
     ]
    }
   ],
   "source": [
    "print(roc_auc_score(y, CBC.predict_proba(X)[:, 1]))\n",
    "\n",
    "y_pred = CBC.predict(X_test)\n",
    "print(roc_auc_score(y_test, y_pred))"
   ]
  },
  {
   "cell_type": "code",
   "execution_count": 64,
   "id": "industrial-meditation",
   "metadata": {
    "execution": {
     "iopub.execute_input": "2021-06-07T16:30:22.280016Z",
     "iopub.status.busy": "2021-06-07T16:30:22.279177Z",
     "iopub.status.idle": "2021-06-07T16:30:32.136335Z",
     "shell.execute_reply": "2021-06-07T16:30:32.135632Z",
     "shell.execute_reply.started": "2021-06-07T06:53:50.460692Z"
    },
    "papermill": {
     "duration": 9.968531,
     "end_time": "2021-06-07T16:30:32.136512",
     "exception": false,
     "start_time": "2021-06-07T16:30:22.167981",
     "status": "completed"
    },
    "tags": []
   },
   "outputs": [
    {
     "name": "stdout",
     "output_type": "stream",
     "text": [
      "[16:30:22] WARNING: ../src/learner.cc:573: \n",
      "Parameters: { \"verbose\" } might not be used.\n",
      "\n",
      "  This may not be accurate due to some parameters are only used in language bindings but\n",
      "  passed down to XGBoost core.  Or some parameters are not used but slip through this\n",
      "  verification. Please open an issue if you find above cases.\n",
      "\n",
      "\n",
      "[16:30:22] WARNING: ../src/learner.cc:1095: Starting in XGBoost 1.3.0, the default evaluation metric used with the objective 'binary:logistic' was changed from 'error' to 'logloss'. Explicitly set eval_metric if you'd like to restore the old behavior.\n"
     ]
    },
    {
     "data": {
      "text/plain": [
       "XGBClassifier(base_score=0.5, booster='gbtree', colsample_bylevel=1,\n",
       "              colsample_bynode=1, colsample_bytree=1, gamma=0, gpu_id=-1,\n",
       "              importance_type='gain', interaction_constraints='',\n",
       "              learning_rate=0.300000012, max_delta_step=0, max_depth=6,\n",
       "              min_child_weight=1, missing=nan, monotone_constraints='()',\n",
       "              n_estimators=100, n_jobs=4, num_parallel_tree=1, random_state=0,\n",
       "              reg_alpha=0, reg_lambda=1, scale_pos_weight=1, subsample=1,\n",
       "              tree_method='exact', validate_parameters=1, verbose=0,\n",
       "              verbosity=None)"
      ]
     },
     "execution_count": 64,
     "metadata": {},
     "output_type": "execute_result"
    }
   ],
   "source": [
    "from xgboost import XGBClassifier\n",
    "XGBC = XGBClassifier(verbose=0)\n",
    "XGBC.fit(X_train,y_train)\n"
   ]
  },
  {
   "cell_type": "code",
   "execution_count": 65,
   "id": "exempt-organization",
   "metadata": {
    "execution": {
     "iopub.execute_input": "2021-06-07T16:30:32.338207Z",
     "iopub.status.busy": "2021-06-07T16:30:32.335932Z",
     "iopub.status.idle": "2021-06-07T16:30:32.732198Z",
     "shell.execute_reply": "2021-06-07T16:30:32.730989Z",
     "shell.execute_reply.started": "2021-06-07T06:54:24.443066Z"
    },
    "papermill": {
     "duration": 0.499486,
     "end_time": "2021-06-07T16:30:32.732400",
     "exception": false,
     "start_time": "2021-06-07T16:30:32.232914",
     "status": "completed"
    },
    "tags": []
   },
   "outputs": [
    {
     "name": "stdout",
     "output_type": "stream",
     "text": [
      "0.8883550293502437\n",
      "0.7560194935013649\n"
     ]
    }
   ],
   "source": [
    "print(roc_auc_score(y, XGBC.predict_proba(X)[:, 1]))\n",
    "\n",
    "y_pred = XGBC.predict(X_test)\n",
    "print(roc_auc_score(y_test, y_pred))"
   ]
  },
  {
   "cell_type": "code",
   "execution_count": 66,
   "id": "official-crown",
   "metadata": {
    "execution": {
     "iopub.execute_input": "2021-06-07T16:30:32.934468Z",
     "iopub.status.busy": "2021-06-07T16:30:32.933689Z",
     "iopub.status.idle": "2021-06-07T16:33:53.062661Z",
     "shell.execute_reply": "2021-06-07T16:33:53.063172Z",
     "shell.execute_reply.started": "2021-06-07T07:08:01.77492Z"
    },
    "papermill": {
     "duration": 200.233584,
     "end_time": "2021-06-07T16:33:53.063384",
     "exception": false,
     "start_time": "2021-06-07T16:30:32.829800",
     "status": "completed"
    },
    "tags": []
   },
   "outputs": [
    {
     "data": {
      "text/plain": [
       "array([0.86026221, 0.86042551, 0.86096207, 0.85937573, 0.86404143])"
      ]
     },
     "execution_count": 66,
     "metadata": {},
     "output_type": "execute_result"
    }
   ],
   "source": [
    "#Now let us use Kfold \n",
    "\n",
    "\n",
    "from sklearn.model_selection import cross_val_score\n",
    "\n",
    "from sklearn.model_selection import KFold\n",
    "\n",
    "kfold = KFold(n_splits=5)\n",
    "result = cross_val_score(CBC,X,y,cv=kfold)\n",
    "result"
   ]
  }
 ],
 "metadata": {
  "kernelspec": {
   "display_name": "Python 3",
   "language": "python",
   "name": "python3"
  },
  "language_info": {
   "codemirror_mode": {
    "name": "ipython",
    "version": 3
   },
   "file_extension": ".py",
   "mimetype": "text/x-python",
   "name": "python",
   "nbconvert_exporter": "python",
   "pygments_lexer": "ipython3",
   "version": "3.7.10"
  },
  "papermill": {
   "default_parameters": {},
   "duration": 434.129653,
   "end_time": "2021-06-07T16:33:55.047056",
   "environment_variables": {},
   "exception": null,
   "input_path": "__notebook__.ipynb",
   "output_path": "__notebook__.ipynb",
   "parameters": {},
   "start_time": "2021-06-07T16:26:40.917403",
   "version": "2.3.3"
  }
 },
 "nbformat": 4,
 "nbformat_minor": 5
}
